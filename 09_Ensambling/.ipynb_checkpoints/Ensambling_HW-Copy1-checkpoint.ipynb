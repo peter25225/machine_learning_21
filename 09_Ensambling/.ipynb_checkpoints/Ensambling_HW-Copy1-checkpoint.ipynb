{
 "cells": [
  {
   "cell_type": "code",
   "execution_count": 906,
   "metadata": {},
   "outputs": [],
   "source": [
    "import matplotlib.pyplot as plt\n",
    "import seaborn as sns\n",
    "\n",
    "import pandas as pd\n",
    "import numpy as np\n",
    "from jupyterthemes import jtplot\n",
    "from sklearn.metrics import auc, roc_curve, roc_auc_score\n",
    "%matplotlib inline\n",
    "jtplot.style()\n",
    "\n",
    "from sklearn.ensemble import RandomForestClassifier\n",
    "from sklearn.ensemble import RandomForestRegressor\n",
    "\n",
    "from sklearn.model_selection import train_test_split\n",
    "\n",
    "from sklearn.metrics import recall_score\n",
    "from sklearn.metrics import confusion_matrix\n",
    "from sklearn.preprocessing import StandardScaler"
   ]
  },
  {
   "cell_type": "code",
   "execution_count": 907,
   "metadata": {},
   "outputs": [
    {
     "data": {
      "text/html": [
       "<div>\n",
       "<style scoped>\n",
       "    .dataframe tbody tr th:only-of-type {\n",
       "        vertical-align: middle;\n",
       "    }\n",
       "\n",
       "    .dataframe tbody tr th {\n",
       "        vertical-align: top;\n",
       "    }\n",
       "\n",
       "    .dataframe thead th {\n",
       "        text-align: right;\n",
       "    }\n",
       "</style>\n",
       "<table border=\"1\" class=\"dataframe\">\n",
       "  <thead>\n",
       "    <tr style=\"text-align: right;\">\n",
       "      <th></th>\n",
       "      <th>Id</th>\n",
       "      <th>MSSubClass</th>\n",
       "      <th>MSZoning</th>\n",
       "      <th>LotFrontage</th>\n",
       "      <th>LotArea</th>\n",
       "      <th>Street</th>\n",
       "      <th>Alley</th>\n",
       "      <th>LotShape</th>\n",
       "      <th>LandContour</th>\n",
       "      <th>Utilities</th>\n",
       "      <th>...</th>\n",
       "      <th>PoolArea</th>\n",
       "      <th>PoolQC</th>\n",
       "      <th>Fence</th>\n",
       "      <th>MiscFeature</th>\n",
       "      <th>MiscVal</th>\n",
       "      <th>MoSold</th>\n",
       "      <th>YrSold</th>\n",
       "      <th>SaleType</th>\n",
       "      <th>SaleCondition</th>\n",
       "      <th>SalePrice</th>\n",
       "    </tr>\n",
       "  </thead>\n",
       "  <tbody>\n",
       "    <tr>\n",
       "      <th>0</th>\n",
       "      <td>1</td>\n",
       "      <td>60</td>\n",
       "      <td>RL</td>\n",
       "      <td>65.0</td>\n",
       "      <td>8450</td>\n",
       "      <td>Pave</td>\n",
       "      <td>NaN</td>\n",
       "      <td>Reg</td>\n",
       "      <td>Lvl</td>\n",
       "      <td>AllPub</td>\n",
       "      <td>...</td>\n",
       "      <td>0</td>\n",
       "      <td>NaN</td>\n",
       "      <td>NaN</td>\n",
       "      <td>NaN</td>\n",
       "      <td>0</td>\n",
       "      <td>2</td>\n",
       "      <td>2008</td>\n",
       "      <td>WD</td>\n",
       "      <td>Normal</td>\n",
       "      <td>208500</td>\n",
       "    </tr>\n",
       "    <tr>\n",
       "      <th>1</th>\n",
       "      <td>2</td>\n",
       "      <td>20</td>\n",
       "      <td>RL</td>\n",
       "      <td>80.0</td>\n",
       "      <td>9600</td>\n",
       "      <td>Pave</td>\n",
       "      <td>NaN</td>\n",
       "      <td>Reg</td>\n",
       "      <td>Lvl</td>\n",
       "      <td>AllPub</td>\n",
       "      <td>...</td>\n",
       "      <td>0</td>\n",
       "      <td>NaN</td>\n",
       "      <td>NaN</td>\n",
       "      <td>NaN</td>\n",
       "      <td>0</td>\n",
       "      <td>5</td>\n",
       "      <td>2007</td>\n",
       "      <td>WD</td>\n",
       "      <td>Normal</td>\n",
       "      <td>181500</td>\n",
       "    </tr>\n",
       "    <tr>\n",
       "      <th>2</th>\n",
       "      <td>3</td>\n",
       "      <td>60</td>\n",
       "      <td>RL</td>\n",
       "      <td>68.0</td>\n",
       "      <td>11250</td>\n",
       "      <td>Pave</td>\n",
       "      <td>NaN</td>\n",
       "      <td>IR1</td>\n",
       "      <td>Lvl</td>\n",
       "      <td>AllPub</td>\n",
       "      <td>...</td>\n",
       "      <td>0</td>\n",
       "      <td>NaN</td>\n",
       "      <td>NaN</td>\n",
       "      <td>NaN</td>\n",
       "      <td>0</td>\n",
       "      <td>9</td>\n",
       "      <td>2008</td>\n",
       "      <td>WD</td>\n",
       "      <td>Normal</td>\n",
       "      <td>223500</td>\n",
       "    </tr>\n",
       "    <tr>\n",
       "      <th>3</th>\n",
       "      <td>4</td>\n",
       "      <td>70</td>\n",
       "      <td>RL</td>\n",
       "      <td>60.0</td>\n",
       "      <td>9550</td>\n",
       "      <td>Pave</td>\n",
       "      <td>NaN</td>\n",
       "      <td>IR1</td>\n",
       "      <td>Lvl</td>\n",
       "      <td>AllPub</td>\n",
       "      <td>...</td>\n",
       "      <td>0</td>\n",
       "      <td>NaN</td>\n",
       "      <td>NaN</td>\n",
       "      <td>NaN</td>\n",
       "      <td>0</td>\n",
       "      <td>2</td>\n",
       "      <td>2006</td>\n",
       "      <td>WD</td>\n",
       "      <td>Abnorml</td>\n",
       "      <td>140000</td>\n",
       "    </tr>\n",
       "    <tr>\n",
       "      <th>4</th>\n",
       "      <td>5</td>\n",
       "      <td>60</td>\n",
       "      <td>RL</td>\n",
       "      <td>84.0</td>\n",
       "      <td>14260</td>\n",
       "      <td>Pave</td>\n",
       "      <td>NaN</td>\n",
       "      <td>IR1</td>\n",
       "      <td>Lvl</td>\n",
       "      <td>AllPub</td>\n",
       "      <td>...</td>\n",
       "      <td>0</td>\n",
       "      <td>NaN</td>\n",
       "      <td>NaN</td>\n",
       "      <td>NaN</td>\n",
       "      <td>0</td>\n",
       "      <td>12</td>\n",
       "      <td>2008</td>\n",
       "      <td>WD</td>\n",
       "      <td>Normal</td>\n",
       "      <td>250000</td>\n",
       "    </tr>\n",
       "    <tr>\n",
       "      <th>...</th>\n",
       "      <td>...</td>\n",
       "      <td>...</td>\n",
       "      <td>...</td>\n",
       "      <td>...</td>\n",
       "      <td>...</td>\n",
       "      <td>...</td>\n",
       "      <td>...</td>\n",
       "      <td>...</td>\n",
       "      <td>...</td>\n",
       "      <td>...</td>\n",
       "      <td>...</td>\n",
       "      <td>...</td>\n",
       "      <td>...</td>\n",
       "      <td>...</td>\n",
       "      <td>...</td>\n",
       "      <td>...</td>\n",
       "      <td>...</td>\n",
       "      <td>...</td>\n",
       "      <td>...</td>\n",
       "      <td>...</td>\n",
       "      <td>...</td>\n",
       "    </tr>\n",
       "    <tr>\n",
       "      <th>1455</th>\n",
       "      <td>1456</td>\n",
       "      <td>60</td>\n",
       "      <td>RL</td>\n",
       "      <td>62.0</td>\n",
       "      <td>7917</td>\n",
       "      <td>Pave</td>\n",
       "      <td>NaN</td>\n",
       "      <td>Reg</td>\n",
       "      <td>Lvl</td>\n",
       "      <td>AllPub</td>\n",
       "      <td>...</td>\n",
       "      <td>0</td>\n",
       "      <td>NaN</td>\n",
       "      <td>NaN</td>\n",
       "      <td>NaN</td>\n",
       "      <td>0</td>\n",
       "      <td>8</td>\n",
       "      <td>2007</td>\n",
       "      <td>WD</td>\n",
       "      <td>Normal</td>\n",
       "      <td>175000</td>\n",
       "    </tr>\n",
       "    <tr>\n",
       "      <th>1456</th>\n",
       "      <td>1457</td>\n",
       "      <td>20</td>\n",
       "      <td>RL</td>\n",
       "      <td>85.0</td>\n",
       "      <td>13175</td>\n",
       "      <td>Pave</td>\n",
       "      <td>NaN</td>\n",
       "      <td>Reg</td>\n",
       "      <td>Lvl</td>\n",
       "      <td>AllPub</td>\n",
       "      <td>...</td>\n",
       "      <td>0</td>\n",
       "      <td>NaN</td>\n",
       "      <td>MnPrv</td>\n",
       "      <td>NaN</td>\n",
       "      <td>0</td>\n",
       "      <td>2</td>\n",
       "      <td>2010</td>\n",
       "      <td>WD</td>\n",
       "      <td>Normal</td>\n",
       "      <td>210000</td>\n",
       "    </tr>\n",
       "    <tr>\n",
       "      <th>1457</th>\n",
       "      <td>1458</td>\n",
       "      <td>70</td>\n",
       "      <td>RL</td>\n",
       "      <td>66.0</td>\n",
       "      <td>9042</td>\n",
       "      <td>Pave</td>\n",
       "      <td>NaN</td>\n",
       "      <td>Reg</td>\n",
       "      <td>Lvl</td>\n",
       "      <td>AllPub</td>\n",
       "      <td>...</td>\n",
       "      <td>0</td>\n",
       "      <td>NaN</td>\n",
       "      <td>GdPrv</td>\n",
       "      <td>Shed</td>\n",
       "      <td>2500</td>\n",
       "      <td>5</td>\n",
       "      <td>2010</td>\n",
       "      <td>WD</td>\n",
       "      <td>Normal</td>\n",
       "      <td>266500</td>\n",
       "    </tr>\n",
       "    <tr>\n",
       "      <th>1458</th>\n",
       "      <td>1459</td>\n",
       "      <td>20</td>\n",
       "      <td>RL</td>\n",
       "      <td>68.0</td>\n",
       "      <td>9717</td>\n",
       "      <td>Pave</td>\n",
       "      <td>NaN</td>\n",
       "      <td>Reg</td>\n",
       "      <td>Lvl</td>\n",
       "      <td>AllPub</td>\n",
       "      <td>...</td>\n",
       "      <td>0</td>\n",
       "      <td>NaN</td>\n",
       "      <td>NaN</td>\n",
       "      <td>NaN</td>\n",
       "      <td>0</td>\n",
       "      <td>4</td>\n",
       "      <td>2010</td>\n",
       "      <td>WD</td>\n",
       "      <td>Normal</td>\n",
       "      <td>142125</td>\n",
       "    </tr>\n",
       "    <tr>\n",
       "      <th>1459</th>\n",
       "      <td>1460</td>\n",
       "      <td>20</td>\n",
       "      <td>RL</td>\n",
       "      <td>75.0</td>\n",
       "      <td>9937</td>\n",
       "      <td>Pave</td>\n",
       "      <td>NaN</td>\n",
       "      <td>Reg</td>\n",
       "      <td>Lvl</td>\n",
       "      <td>AllPub</td>\n",
       "      <td>...</td>\n",
       "      <td>0</td>\n",
       "      <td>NaN</td>\n",
       "      <td>NaN</td>\n",
       "      <td>NaN</td>\n",
       "      <td>0</td>\n",
       "      <td>6</td>\n",
       "      <td>2008</td>\n",
       "      <td>WD</td>\n",
       "      <td>Normal</td>\n",
       "      <td>147500</td>\n",
       "    </tr>\n",
       "  </tbody>\n",
       "</table>\n",
       "<p>1460 rows × 81 columns</p>\n",
       "</div>"
      ],
      "text/plain": [
       "        Id  MSSubClass MSZoning  LotFrontage  LotArea Street Alley LotShape  \\\n",
       "0        1          60       RL         65.0     8450   Pave   NaN      Reg   \n",
       "1        2          20       RL         80.0     9600   Pave   NaN      Reg   \n",
       "2        3          60       RL         68.0    11250   Pave   NaN      IR1   \n",
       "3        4          70       RL         60.0     9550   Pave   NaN      IR1   \n",
       "4        5          60       RL         84.0    14260   Pave   NaN      IR1   \n",
       "...    ...         ...      ...          ...      ...    ...   ...      ...   \n",
       "1455  1456          60       RL         62.0     7917   Pave   NaN      Reg   \n",
       "1456  1457          20       RL         85.0    13175   Pave   NaN      Reg   \n",
       "1457  1458          70       RL         66.0     9042   Pave   NaN      Reg   \n",
       "1458  1459          20       RL         68.0     9717   Pave   NaN      Reg   \n",
       "1459  1460          20       RL         75.0     9937   Pave   NaN      Reg   \n",
       "\n",
       "     LandContour Utilities  ... PoolArea PoolQC  Fence MiscFeature MiscVal  \\\n",
       "0            Lvl    AllPub  ...        0    NaN    NaN         NaN       0   \n",
       "1            Lvl    AllPub  ...        0    NaN    NaN         NaN       0   \n",
       "2            Lvl    AllPub  ...        0    NaN    NaN         NaN       0   \n",
       "3            Lvl    AllPub  ...        0    NaN    NaN         NaN       0   \n",
       "4            Lvl    AllPub  ...        0    NaN    NaN         NaN       0   \n",
       "...          ...       ...  ...      ...    ...    ...         ...     ...   \n",
       "1455         Lvl    AllPub  ...        0    NaN    NaN         NaN       0   \n",
       "1456         Lvl    AllPub  ...        0    NaN  MnPrv         NaN       0   \n",
       "1457         Lvl    AllPub  ...        0    NaN  GdPrv        Shed    2500   \n",
       "1458         Lvl    AllPub  ...        0    NaN    NaN         NaN       0   \n",
       "1459         Lvl    AllPub  ...        0    NaN    NaN         NaN       0   \n",
       "\n",
       "     MoSold YrSold  SaleType  SaleCondition  SalePrice  \n",
       "0         2   2008        WD         Normal     208500  \n",
       "1         5   2007        WD         Normal     181500  \n",
       "2         9   2008        WD         Normal     223500  \n",
       "3         2   2006        WD        Abnorml     140000  \n",
       "4        12   2008        WD         Normal     250000  \n",
       "...     ...    ...       ...            ...        ...  \n",
       "1455      8   2007        WD         Normal     175000  \n",
       "1456      2   2010        WD         Normal     210000  \n",
       "1457      5   2010        WD         Normal     266500  \n",
       "1458      4   2010        WD         Normal     142125  \n",
       "1459      6   2008        WD         Normal     147500  \n",
       "\n",
       "[1460 rows x 81 columns]"
      ]
     },
     "execution_count": 907,
     "metadata": {},
     "output_type": "execute_result"
    }
   ],
   "source": [
    "data = pd.read_csv('train.csv')\n",
    "data"
   ]
  },
  {
   "cell_type": "markdown",
   "metadata": {},
   "source": [
    "### 1. Для начала поработаем с признаками"
   ]
  },
  {
   "cell_type": "markdown",
   "metadata": {},
   "source": [
    "Проверим, в каких полях есть пустые значения"
   ]
  },
  {
   "cell_type": "code",
   "execution_count": 908,
   "metadata": {},
   "outputs": [
    {
     "data": {
      "text/html": [
       "<div>\n",
       "<style scoped>\n",
       "    .dataframe tbody tr th:only-of-type {\n",
       "        vertical-align: middle;\n",
       "    }\n",
       "\n",
       "    .dataframe tbody tr th {\n",
       "        vertical-align: top;\n",
       "    }\n",
       "\n",
       "    .dataframe thead th {\n",
       "        text-align: right;\n",
       "    }\n",
       "</style>\n",
       "<table border=\"1\" class=\"dataframe\">\n",
       "  <thead>\n",
       "    <tr style=\"text-align: right;\">\n",
       "      <th></th>\n",
       "      <th>Null Count</th>\n",
       "    </tr>\n",
       "    <tr>\n",
       "      <th>Feature</th>\n",
       "      <th></th>\n",
       "    </tr>\n",
       "  </thead>\n",
       "  <tbody>\n",
       "    <tr>\n",
       "      <th>PoolQC</th>\n",
       "      <td>1453</td>\n",
       "    </tr>\n",
       "    <tr>\n",
       "      <th>MiscFeature</th>\n",
       "      <td>1406</td>\n",
       "    </tr>\n",
       "    <tr>\n",
       "      <th>Alley</th>\n",
       "      <td>1369</td>\n",
       "    </tr>\n",
       "    <tr>\n",
       "      <th>Fence</th>\n",
       "      <td>1179</td>\n",
       "    </tr>\n",
       "    <tr>\n",
       "      <th>FireplaceQu</th>\n",
       "      <td>690</td>\n",
       "    </tr>\n",
       "    <tr>\n",
       "      <th>LotFrontage</th>\n",
       "      <td>259</td>\n",
       "    </tr>\n",
       "    <tr>\n",
       "      <th>GarageCond</th>\n",
       "      <td>81</td>\n",
       "    </tr>\n",
       "    <tr>\n",
       "      <th>GarageType</th>\n",
       "      <td>81</td>\n",
       "    </tr>\n",
       "    <tr>\n",
       "      <th>GarageYrBlt</th>\n",
       "      <td>81</td>\n",
       "    </tr>\n",
       "    <tr>\n",
       "      <th>GarageFinish</th>\n",
       "      <td>81</td>\n",
       "    </tr>\n",
       "    <tr>\n",
       "      <th>GarageQual</th>\n",
       "      <td>81</td>\n",
       "    </tr>\n",
       "    <tr>\n",
       "      <th>BsmtExposure</th>\n",
       "      <td>38</td>\n",
       "    </tr>\n",
       "    <tr>\n",
       "      <th>BsmtFinType2</th>\n",
       "      <td>38</td>\n",
       "    </tr>\n",
       "    <tr>\n",
       "      <th>BsmtFinType1</th>\n",
       "      <td>37</td>\n",
       "    </tr>\n",
       "    <tr>\n",
       "      <th>BsmtCond</th>\n",
       "      <td>37</td>\n",
       "    </tr>\n",
       "    <tr>\n",
       "      <th>BsmtQual</th>\n",
       "      <td>37</td>\n",
       "    </tr>\n",
       "    <tr>\n",
       "      <th>MasVnrArea</th>\n",
       "      <td>8</td>\n",
       "    </tr>\n",
       "    <tr>\n",
       "      <th>MasVnrType</th>\n",
       "      <td>8</td>\n",
       "    </tr>\n",
       "    <tr>\n",
       "      <th>Electrical</th>\n",
       "      <td>1</td>\n",
       "    </tr>\n",
       "    <tr>\n",
       "      <th>Utilities</th>\n",
       "      <td>0</td>\n",
       "    </tr>\n",
       "    <tr>\n",
       "      <th>YearRemodAdd</th>\n",
       "      <td>0</td>\n",
       "    </tr>\n",
       "    <tr>\n",
       "      <th>MSSubClass</th>\n",
       "      <td>0</td>\n",
       "    </tr>\n",
       "    <tr>\n",
       "      <th>Foundation</th>\n",
       "      <td>0</td>\n",
       "    </tr>\n",
       "    <tr>\n",
       "      <th>ExterCond</th>\n",
       "      <td>0</td>\n",
       "    </tr>\n",
       "    <tr>\n",
       "      <th>ExterQual</th>\n",
       "      <td>0</td>\n",
       "    </tr>\n",
       "  </tbody>\n",
       "</table>\n",
       "</div>"
      ],
      "text/plain": [
       "              Null Count\n",
       "Feature                 \n",
       "PoolQC              1453\n",
       "MiscFeature         1406\n",
       "Alley               1369\n",
       "Fence               1179\n",
       "FireplaceQu          690\n",
       "LotFrontage          259\n",
       "GarageCond            81\n",
       "GarageType            81\n",
       "GarageYrBlt           81\n",
       "GarageFinish          81\n",
       "GarageQual            81\n",
       "BsmtExposure          38\n",
       "BsmtFinType2          38\n",
       "BsmtFinType1          37\n",
       "BsmtCond              37\n",
       "BsmtQual              37\n",
       "MasVnrArea             8\n",
       "MasVnrType             8\n",
       "Electrical             1\n",
       "Utilities              0\n",
       "YearRemodAdd           0\n",
       "MSSubClass             0\n",
       "Foundation             0\n",
       "ExterCond              0\n",
       "ExterQual              0"
      ]
     },
     "execution_count": 908,
     "metadata": {},
     "output_type": "execute_result"
    }
   ],
   "source": [
    "nulls = pd.DataFrame(data.isnull().sum().sort_values(ascending=False)[:25])\n",
    "nulls.columns = ['Null Count']\n",
    "nulls.index.name = 'Feature'\n",
    "nulls"
   ]
  },
  {
   "cell_type": "markdown",
   "metadata": {},
   "source": [
    "#### Проанализируем каждое поле, выполним необходимые действия"
   ]
  },
  {
   "cell_type": "markdown",
   "metadata": {},
   "source": [
    "1. MSSubClass - преобразуем используя OneHotEncoder"
   ]
  },
  {
   "cell_type": "code",
   "execution_count": 909,
   "metadata": {},
   "outputs": [
    {
     "data": {
      "text/plain": [
       "20     536\n",
       "60     299\n",
       "50     144\n",
       "120     87\n",
       "30      69\n",
       "160     63\n",
       "70      60\n",
       "80      58\n",
       "90      52\n",
       "190     30\n",
       "85      20\n",
       "75      16\n",
       "45      12\n",
       "180     10\n",
       "40       4\n",
       "Name: MSSubClass, dtype: int64"
      ]
     },
     "execution_count": 909,
     "metadata": {},
     "output_type": "execute_result"
    }
   ],
   "source": [
    "data['MSSubClass'].value_counts()"
   ]
  },
  {
   "cell_type": "code",
   "execution_count": 910,
   "metadata": {},
   "outputs": [],
   "source": [
    "data = pd.get_dummies( data, columns = [ 'MSSubClass' ] )"
   ]
  },
  {
   "cell_type": "markdown",
   "metadata": {},
   "source": [
    "2. MSZoning - преобразуем используя OneHotEncoder"
   ]
  },
  {
   "cell_type": "code",
   "execution_count": 911,
   "metadata": {},
   "outputs": [
    {
     "data": {
      "text/plain": [
       "RL         1151\n",
       "RM          218\n",
       "FV           65\n",
       "RH           16\n",
       "C (all)      10\n",
       "Name: MSZoning, dtype: int64"
      ]
     },
     "execution_count": 911,
     "metadata": {},
     "output_type": "execute_result"
    }
   ],
   "source": [
    "data['MSZoning'].value_counts()"
   ]
  },
  {
   "cell_type": "code",
   "execution_count": 912,
   "metadata": {},
   "outputs": [],
   "source": [
    "data = pd.get_dummies( data, columns = [ 'MSZoning' ] )"
   ]
  },
  {
   "cell_type": "markdown",
   "metadata": {},
   "source": [
    "3. LotFrontage - заполним пустые значения нулями"
   ]
  },
  {
   "cell_type": "code",
   "execution_count": 913,
   "metadata": {},
   "outputs": [],
   "source": [
    "data['LotFrontage'] = data['LotFrontage'].fillna(0)"
   ]
  },
  {
   "cell_type": "markdown",
   "metadata": {},
   "source": [
    "4. Street - всего несколько записей со значением 'Grvl', распределение цен которых не сильно отличается от остальной выборки. Не будем использовать. "
   ]
  },
  {
   "cell_type": "code",
   "execution_count": 914,
   "metadata": {},
   "outputs": [
    {
     "data": {
      "text/plain": [
       "Pave    1454\n",
       "Grvl       6\n",
       "Name: Street, dtype: int64"
      ]
     },
     "execution_count": 914,
     "metadata": {},
     "output_type": "execute_result"
    }
   ],
   "source": [
    "data['Street'].value_counts()"
   ]
  },
  {
   "cell_type": "code",
   "execution_count": 915,
   "metadata": {},
   "outputs": [
    {
     "data": {
      "image/png": "[encoded data removed]",
      "text/plain": [
       "<Figure size 360x360 with 1 Axes>"
      ]
     },
     "metadata": {},
     "output_type": "display_data"
    },
    {
     "data": {
      "image/png": "[encoded data removed]",
      "text/plain": [
       "<Figure size 360x360 with 1 Axes>"
      ]
     },
     "metadata": {},
     "output_type": "display_data"
    }
   ],
   "source": [
    "for street in data['Street'].unique():\n",
    "    street_data = data[data['Street'] == street]\n",
    "    sns.displot(street_data['SalePrice'])\n"
   ]
  },
  {
   "cell_type": "code",
   "execution_count": 916,
   "metadata": {},
   "outputs": [],
   "source": [
    "del data['Street']"
   ]
  },
  {
   "cell_type": "markdown",
   "metadata": {},
   "source": [
    "5. LotShape - преобразуем используя OneHotEncoder"
   ]
  },
  {
   "cell_type": "code",
   "execution_count": 917,
   "metadata": {},
   "outputs": [
    {
     "data": {
      "text/plain": [
       "Reg    925\n",
       "IR1    484\n",
       "IR2     41\n",
       "IR3     10\n",
       "Name: LotShape, dtype: int64"
      ]
     },
     "execution_count": 917,
     "metadata": {},
     "output_type": "execute_result"
    }
   ],
   "source": [
    "data['LotShape'].value_counts()"
   ]
  },
  {
   "cell_type": "code",
   "execution_count": 918,
   "metadata": {},
   "outputs": [],
   "source": [
    "data = pd.get_dummies( data, columns = [ 'LotShape' ] )"
   ]
  },
  {
   "cell_type": "markdown",
   "metadata": {},
   "source": [
    "6. LandContour - преобразуем используя OneHotEncoder"
   ]
  },
  {
   "cell_type": "code",
   "execution_count": 919,
   "metadata": {},
   "outputs": [
    {
     "data": {
      "text/plain": [
       "Lvl    1311\n",
       "Bnk      63\n",
       "HLS      50\n",
       "Low      36\n",
       "Name: LandContour, dtype: int64"
      ]
     },
     "execution_count": 919,
     "metadata": {},
     "output_type": "execute_result"
    }
   ],
   "source": [
    "data['LandContour'].value_counts()"
   ]
  },
  {
   "cell_type": "code",
   "execution_count": 920,
   "metadata": {},
   "outputs": [],
   "source": [
    "data = pd.get_dummies( data, columns = [ 'LandContour' ] )"
   ]
  },
  {
   "cell_type": "markdown",
   "metadata": {},
   "source": [
    "7. LotConfig - преобразуем используя OneHotEncoder"
   ]
  },
  {
   "cell_type": "code",
   "execution_count": 921,
   "metadata": {},
   "outputs": [
    {
     "data": {
      "text/plain": [
       "Inside     1052\n",
       "Corner      263\n",
       "CulDSac      94\n",
       "FR2          47\n",
       "FR3           4\n",
       "Name: LotConfig, dtype: int64"
      ]
     },
     "execution_count": 921,
     "metadata": {},
     "output_type": "execute_result"
    }
   ],
   "source": [
    "data['LotConfig'].value_counts()"
   ]
  },
  {
   "cell_type": "code",
   "execution_count": 922,
   "metadata": {},
   "outputs": [],
   "source": [
    "data = pd.get_dummies( data, columns = [ 'LotConfig' ] )"
   ]
  },
  {
   "cell_type": "markdown",
   "metadata": {},
   "source": [
    "8. LandSlope - преобразуем используя OneHotEncoder"
   ]
  },
  {
   "cell_type": "code",
   "execution_count": 923,
   "metadata": {},
   "outputs": [
    {
     "data": {
      "text/plain": [
       "Gtl    1382\n",
       "Mod      65\n",
       "Sev      13\n",
       "Name: LandSlope, dtype: int64"
      ]
     },
     "execution_count": 923,
     "metadata": {},
     "output_type": "execute_result"
    }
   ],
   "source": [
    "data['LandSlope'].value_counts()"
   ]
  },
  {
   "cell_type": "code",
   "execution_count": 924,
   "metadata": {},
   "outputs": [],
   "source": [
    "data = pd.get_dummies( data, columns = [ 'LandSlope' ] )"
   ]
  },
  {
   "cell_type": "markdown",
   "metadata": {},
   "source": [
    "9. Neighborhood - преобразуем используя OneHotEncoder"
   ]
  },
  {
   "cell_type": "code",
   "execution_count": 925,
   "metadata": {},
   "outputs": [
    {
     "data": {
      "text/plain": [
       "NAmes      225\n",
       "CollgCr    150\n",
       "OldTown    113\n",
       "Edwards    100\n",
       "Somerst     86\n",
       "Gilbert     79\n",
       "NridgHt     77\n",
       "Sawyer      74\n",
       "NWAmes      73\n",
       "SawyerW     59\n",
       "BrkSide     58\n",
       "Crawfor     51\n",
       "Mitchel     49\n",
       "NoRidge     41\n",
       "Timber      38\n",
       "IDOTRR      37\n",
       "ClearCr     28\n",
       "SWISU       25\n",
       "StoneBr     25\n",
       "Blmngtn     17\n",
       "MeadowV     17\n",
       "BrDale      16\n",
       "Veenker     11\n",
       "NPkVill      9\n",
       "Blueste      2\n",
       "Name: Neighborhood, dtype: int64"
      ]
     },
     "execution_count": 925,
     "metadata": {},
     "output_type": "execute_result"
    }
   ],
   "source": [
    "data['Neighborhood'].value_counts()"
   ]
  },
  {
   "cell_type": "code",
   "execution_count": 926,
   "metadata": {},
   "outputs": [],
   "source": [
    "data = pd.get_dummies( data, columns = [ 'Neighborhood' ] )"
   ]
  },
  {
   "cell_type": "markdown",
   "metadata": {},
   "source": [
    "10. Condition1 - преобразуем используя OneHotEncoder"
   ]
  },
  {
   "cell_type": "code",
   "execution_count": 927,
   "metadata": {},
   "outputs": [
    {
     "data": {
      "text/plain": [
       "Norm      1260\n",
       "Feedr       81\n",
       "Artery      48\n",
       "RRAn        26\n",
       "PosN        19\n",
       "RRAe        11\n",
       "PosA         8\n",
       "RRNn         5\n",
       "RRNe         2\n",
       "Name: Condition1, dtype: int64"
      ]
     },
     "execution_count": 927,
     "metadata": {},
     "output_type": "execute_result"
    }
   ],
   "source": [
    "data['Condition1'].value_counts()"
   ]
  },
  {
   "cell_type": "code",
   "execution_count": 928,
   "metadata": {},
   "outputs": [],
   "source": [
    "data = pd.get_dummies( data, columns = [ 'Condition1' ] )"
   ]
  },
  {
   "cell_type": "markdown",
   "metadata": {},
   "source": [
    "11. Condition2 - преобразуем используя OneHotEncoder"
   ]
  },
  {
   "cell_type": "code",
   "execution_count": 929,
   "metadata": {},
   "outputs": [
    {
     "data": {
      "text/plain": [
       "Norm      1445\n",
       "Feedr        6\n",
       "PosN         2\n",
       "Artery       2\n",
       "RRNn         2\n",
       "RRAn         1\n",
       "RRAe         1\n",
       "PosA         1\n",
       "Name: Condition2, dtype: int64"
      ]
     },
     "execution_count": 929,
     "metadata": {},
     "output_type": "execute_result"
    }
   ],
   "source": [
    "data['Condition2'].value_counts()"
   ]
  },
  {
   "cell_type": "code",
   "execution_count": 930,
   "metadata": {},
   "outputs": [],
   "source": [
    "data = pd.get_dummies( data, columns = [ 'Condition2' ] )"
   ]
  },
  {
   "cell_type": "markdown",
   "metadata": {},
   "source": [
    "12. BldgType - преобразуем используя OneHotEncoder"
   ]
  },
  {
   "cell_type": "code",
   "execution_count": 931,
   "metadata": {},
   "outputs": [
    {
     "data": {
      "text/plain": [
       "1Fam      1220\n",
       "TwnhsE     114\n",
       "Duplex      52\n",
       "Twnhs       43\n",
       "2fmCon      31\n",
       "Name: BldgType, dtype: int64"
      ]
     },
     "execution_count": 931,
     "metadata": {},
     "output_type": "execute_result"
    }
   ],
   "source": [
    "data['BldgType'].value_counts()"
   ]
  },
  {
   "cell_type": "code",
   "execution_count": 932,
   "metadata": {},
   "outputs": [],
   "source": [
    "data = pd.get_dummies( data, columns = [ 'BldgType' ] )"
   ]
  },
  {
   "cell_type": "markdown",
   "metadata": {},
   "source": [
    "13. HouseStyle - преобразуем используя OneHotEncoder"
   ]
  },
  {
   "cell_type": "code",
   "execution_count": 933,
   "metadata": {},
   "outputs": [
    {
     "data": {
      "text/plain": [
       "1Story    726\n",
       "2Story    445\n",
       "1.5Fin    154\n",
       "SLvl       65\n",
       "SFoyer     37\n",
       "1.5Unf     14\n",
       "2.5Unf     11\n",
       "2.5Fin      8\n",
       "Name: HouseStyle, dtype: int64"
      ]
     },
     "execution_count": 933,
     "metadata": {},
     "output_type": "execute_result"
    }
   ],
   "source": [
    "data['HouseStyle'].value_counts()"
   ]
  },
  {
   "cell_type": "code",
   "execution_count": 934,
   "metadata": {},
   "outputs": [],
   "source": [
    "data = pd.get_dummies( data, columns = [ 'HouseStyle' ] )"
   ]
  },
  {
   "cell_type": "markdown",
   "metadata": {},
   "source": [
    "14. OverallQual - преобразуем используя OneHotEncoder"
   ]
  },
  {
   "cell_type": "code",
   "execution_count": 935,
   "metadata": {},
   "outputs": [
    {
     "data": {
      "text/plain": [
       "5     397\n",
       "6     374\n",
       "7     319\n",
       "8     168\n",
       "4     116\n",
       "9      43\n",
       "3      20\n",
       "10     18\n",
       "2       3\n",
       "1       2\n",
       "Name: OverallQual, dtype: int64"
      ]
     },
     "execution_count": 935,
     "metadata": {},
     "output_type": "execute_result"
    }
   ],
   "source": [
    "data['OverallQual'].value_counts()"
   ]
  },
  {
   "cell_type": "code",
   "execution_count": 936,
   "metadata": {},
   "outputs": [],
   "source": [
    "data = pd.get_dummies( data, columns = [ 'OverallQual' ] )"
   ]
  },
  {
   "cell_type": "markdown",
   "metadata": {},
   "source": [
    "15. OverallCond - преобразуем используя OneHotEncoder"
   ]
  },
  {
   "cell_type": "code",
   "execution_count": 937,
   "metadata": {},
   "outputs": [
    {
     "data": {
      "text/plain": [
       "5    821\n",
       "6    252\n",
       "7    205\n",
       "8     72\n",
       "4     57\n",
       "3     25\n",
       "9     22\n",
       "2      5\n",
       "1      1\n",
       "Name: OverallCond, dtype: int64"
      ]
     },
     "execution_count": 937,
     "metadata": {},
     "output_type": "execute_result"
    }
   ],
   "source": [
    "data['OverallCond'].value_counts()"
   ]
  },
  {
   "cell_type": "code",
   "execution_count": 938,
   "metadata": {},
   "outputs": [],
   "source": [
    "data = pd.get_dummies( data, columns = [ 'OverallCond' ] )"
   ]
  },
  {
   "cell_type": "markdown",
   "metadata": {},
   "source": [
    "16. YearBuilt - разобьем на периоды и преобразуем используя OneHotEncoder"
   ]
  },
  {
   "cell_type": "code",
   "execution_count": 939,
   "metadata": {},
   "outputs": [
    {
     "data": {
      "text/plain": [
       "2006    67\n",
       "2005    64\n",
       "2004    54\n",
       "2007    49\n",
       "2003    45\n",
       "        ..\n",
       "1906     1\n",
       "1911     1\n",
       "1913     1\n",
       "1917     1\n",
       "1872     1\n",
       "Name: YearBuilt, Length: 112, dtype: int64"
      ]
     },
     "execution_count": 939,
     "metadata": {},
     "output_type": "execute_result"
    }
   ],
   "source": [
    "data['YearBuilt'].value_counts()"
   ]
  },
  {
   "cell_type": "code",
   "execution_count": 940,
   "metadata": {},
   "outputs": [],
   "source": [
    "# Сделаем функцию, которая будет определять период постройки дома \n",
    "def get_period(row):\n",
    "    if row['YearBuilt'] < 1900:\n",
    "        return \"18\"\n",
    "    if row['YearBuilt'] >= 1900 and row['YearBuilt'] <= 1925:\n",
    "        return \"01_25\"\n",
    "    if row['YearBuilt'] >= 1926 and row['YearBuilt'] <= 1950:\n",
    "        return \"26_50\"    \n",
    "    if row['YearBuilt'] >= 1951 and row['YearBuilt'] <= 1975:\n",
    "        return \"51_75\"\n",
    "    if row['YearBuilt'] >= 1976 and row['YearBuilt'] <= 1990:\n",
    "        return \"76_90\"\n",
    "    if row['YearBuilt'] >= 1991:\n",
    "        return \"91+\"\n",
    "    return \"Other\"\n",
    "\n",
    "# Создадим новое поле year_period, в котором будет храниться группа\n",
    "data['year_period'] = data.apply(get_period, axis=1)\n"
   ]
  },
  {
   "cell_type": "code",
   "execution_count": 941,
   "metadata": {},
   "outputs": [],
   "source": [
    "data = pd.get_dummies( data, columns = [ 'year_period' ] )\n",
    "del data['YearBuilt']"
   ]
  },
  {
   "cell_type": "markdown",
   "metadata": {},
   "source": [
    "17. YearRemodAdd - заменим на поле remod_years_num - число лет после реконструкции (считаем, что сейчас 2007 год)"
   ]
  },
  {
   "cell_type": "code",
   "execution_count": 942,
   "metadata": {},
   "outputs": [
    {
     "data": {
      "text/plain": [
       "1950    178\n",
       "2006     97\n",
       "2007     76\n",
       "2005     73\n",
       "2004     62\n",
       "       ... \n",
       "2010      6\n",
       "1983      5\n",
       "1952      5\n",
       "1986      5\n",
       "1951      4\n",
       "Name: YearRemodAdd, Length: 61, dtype: int64"
      ]
     },
     "execution_count": 942,
     "metadata": {},
     "output_type": "execute_result"
    }
   ],
   "source": [
    "data['YearRemodAdd'].value_counts()"
   ]
  },
  {
   "cell_type": "code",
   "execution_count": 943,
   "metadata": {},
   "outputs": [],
   "source": [
    "# Сделаем функцию, которая будет определять период постройки дома \n",
    "def get_remod_year_num(row):\n",
    "        return 2007 - row['YearRemodAdd']\n",
    "    \n",
    "# Создадим новое поле year_period, в котором будет храниться группа\n",
    "data['remod_years_num'] = data.apply(get_remod_year_num, axis=1)\n"
   ]
  },
  {
   "cell_type": "code",
   "execution_count": 944,
   "metadata": {},
   "outputs": [
    {
     "data": {
      "text/plain": [
       "<seaborn.axisgrid.FacetGrid at 0x23919fbcca0>"
      ]
     },
     "execution_count": 944,
     "metadata": {},
     "output_type": "execute_result"
    },
    {
     "data": {
      "image/png": "[encoded data removed]",
      "text/plain": [
       "<Figure size 360x360 with 1 Axes>"
      ]
     },
     "metadata": {},
     "output_type": "display_data"
    }
   ],
   "source": [
    "sns.displot(data['remod_years_num'], bins=20)"
   ]
  },
  {
   "cell_type": "code",
   "execution_count": 945,
   "metadata": {},
   "outputs": [],
   "source": [
    "del data['YearRemodAdd']"
   ]
  },
  {
   "cell_type": "markdown",
   "metadata": {},
   "source": [
    "18. RoofStyle - разобьем на периоды и преобразуем используя OneHotEncoder"
   ]
  },
  {
   "cell_type": "code",
   "execution_count": 946,
   "metadata": {},
   "outputs": [
    {
     "data": {
      "text/plain": [
       "Gable      1141\n",
       "Hip         286\n",
       "Flat         13\n",
       "Gambrel      11\n",
       "Mansard       7\n",
       "Shed          2\n",
       "Name: RoofStyle, dtype: int64"
      ]
     },
     "execution_count": 946,
     "metadata": {},
     "output_type": "execute_result"
    }
   ],
   "source": [
    "data['RoofStyle'].value_counts()"
   ]
  },
  {
   "cell_type": "code",
   "execution_count": 947,
   "metadata": {},
   "outputs": [],
   "source": [
    "data = pd.get_dummies( data, columns = [ 'RoofStyle' ] )"
   ]
  },
  {
   "cell_type": "markdown",
   "metadata": {},
   "source": [
    "19. RoofMatl - разобьем на периоды и преобразуем используя OneHotEncoder"
   ]
  },
  {
   "cell_type": "code",
   "execution_count": 948,
   "metadata": {},
   "outputs": [
    {
     "data": {
      "text/plain": [
       "CompShg    1434\n",
       "Tar&Grv      11\n",
       "WdShngl       6\n",
       "WdShake       5\n",
       "ClyTile       1\n",
       "Membran       1\n",
       "Metal         1\n",
       "Roll          1\n",
       "Name: RoofMatl, dtype: int64"
      ]
     },
     "execution_count": 948,
     "metadata": {},
     "output_type": "execute_result"
    }
   ],
   "source": [
    "data['RoofMatl'].value_counts()"
   ]
  },
  {
   "cell_type": "code",
   "execution_count": 949,
   "metadata": {},
   "outputs": [],
   "source": [
    "data = pd.get_dummies( data, columns = [ 'RoofMatl' ] )"
   ]
  },
  {
   "cell_type": "markdown",
   "metadata": {},
   "source": [
    "20. Exterior1st - разобьем на периоды и преобразуем используя OneHotEncoder"
   ]
  },
  {
   "cell_type": "code",
   "execution_count": 950,
   "metadata": {},
   "outputs": [
    {
     "data": {
      "text/plain": [
       "VinylSd    515\n",
       "HdBoard    222\n",
       "MetalSd    220\n",
       "Wd Sdng    206\n",
       "Plywood    108\n",
       "CemntBd     61\n",
       "BrkFace     50\n",
       "WdShing     26\n",
       "Stucco      25\n",
       "AsbShng     20\n",
       "Stone        2\n",
       "BrkComm      2\n",
       "CBlock       1\n",
       "AsphShn      1\n",
       "ImStucc      1\n",
       "Name: Exterior1st, dtype: int64"
      ]
     },
     "execution_count": 950,
     "metadata": {},
     "output_type": "execute_result"
    }
   ],
   "source": [
    "data['Exterior1st'].value_counts()"
   ]
  },
  {
   "cell_type": "code",
   "execution_count": 951,
   "metadata": {},
   "outputs": [],
   "source": [
    "data = pd.get_dummies( data, columns = [ 'Exterior1st' ] )"
   ]
  },
  {
   "cell_type": "markdown",
   "metadata": {},
   "source": [
    "21. Exterior2nd - разобьем на периоды и преобразуем используя OneHotEncoder"
   ]
  },
  {
   "cell_type": "code",
   "execution_count": 952,
   "metadata": {},
   "outputs": [
    {
     "data": {
      "text/plain": [
       "VinylSd    504\n",
       "MetalSd    214\n",
       "HdBoard    207\n",
       "Wd Sdng    197\n",
       "Plywood    142\n",
       "CmentBd     60\n",
       "Wd Shng     38\n",
       "Stucco      26\n",
       "BrkFace     25\n",
       "AsbShng     20\n",
       "ImStucc     10\n",
       "Brk Cmn      7\n",
       "Stone        5\n",
       "AsphShn      3\n",
       "CBlock       1\n",
       "Other        1\n",
       "Name: Exterior2nd, dtype: int64"
      ]
     },
     "execution_count": 952,
     "metadata": {},
     "output_type": "execute_result"
    }
   ],
   "source": [
    "data['Exterior2nd'].value_counts()"
   ]
  },
  {
   "cell_type": "code",
   "execution_count": 953,
   "metadata": {},
   "outputs": [],
   "source": [
    "data = pd.get_dummies( data, columns = [ 'Exterior2nd' ] )"
   ]
  },
  {
   "cell_type": "markdown",
   "metadata": {},
   "source": [
    "22. MasVnrType, MasVnrArea - заполним пустые значения значением 'None' + преобразуем MasVnrType используя OneHotEncoder"
   ]
  },
  {
   "cell_type": "code",
   "execution_count": 954,
   "metadata": {},
   "outputs": [
    {
     "data": {
      "text/plain": [
       "None       864\n",
       "BrkFace    445\n",
       "Stone      128\n",
       "BrkCmn      15\n",
       "Name: MasVnrType, dtype: int64"
      ]
     },
     "execution_count": 954,
     "metadata": {},
     "output_type": "execute_result"
    }
   ],
   "source": [
    "data['MasVnrType'].value_counts()"
   ]
  },
  {
   "cell_type": "code",
   "execution_count": 955,
   "metadata": {},
   "outputs": [],
   "source": [
    "data['MasVnrType'] = data['MasVnrType'].fillna('None')"
   ]
  },
  {
   "cell_type": "code",
   "execution_count": 956,
   "metadata": {},
   "outputs": [],
   "source": [
    "data['MasVnrArea'] = data['MasVnrArea'].fillna(0)"
   ]
  },
  {
   "cell_type": "code",
   "execution_count": 957,
   "metadata": {},
   "outputs": [],
   "source": [
    "data = pd.get_dummies( data, columns = [ 'MasVnrType' ] )"
   ]
  },
  {
   "cell_type": "markdown",
   "metadata": {},
   "source": [
    "23. ExterQual - преобразуем используя OneHotEncoder"
   ]
  },
  {
   "cell_type": "code",
   "execution_count": 958,
   "metadata": {},
   "outputs": [
    {
     "data": {
      "text/plain": [
       "TA    906\n",
       "Gd    488\n",
       "Ex     52\n",
       "Fa     14\n",
       "Name: ExterQual, dtype: int64"
      ]
     },
     "execution_count": 958,
     "metadata": {},
     "output_type": "execute_result"
    }
   ],
   "source": [
    "data['ExterQual'].value_counts()"
   ]
  },
  {
   "cell_type": "code",
   "execution_count": 959,
   "metadata": {},
   "outputs": [],
   "source": [
    "data = pd.get_dummies( data, columns = [ 'ExterQual' ] )"
   ]
  },
  {
   "cell_type": "markdown",
   "metadata": {},
   "source": [
    "24. ExterCond - преобразуем используя OneHotEncoder"
   ]
  },
  {
   "cell_type": "code",
   "execution_count": 960,
   "metadata": {},
   "outputs": [
    {
     "data": {
      "text/plain": [
       "TA    1282\n",
       "Gd     146\n",
       "Fa      28\n",
       "Ex       3\n",
       "Po       1\n",
       "Name: ExterCond, dtype: int64"
      ]
     },
     "execution_count": 960,
     "metadata": {},
     "output_type": "execute_result"
    }
   ],
   "source": [
    "data['ExterCond'].value_counts()"
   ]
  },
  {
   "cell_type": "code",
   "execution_count": 961,
   "metadata": {},
   "outputs": [],
   "source": [
    "data = pd.get_dummies( data, columns = [ 'ExterCond' ] )"
   ]
  },
  {
   "cell_type": "markdown",
   "metadata": {},
   "source": [
    "24. Foundation - преобразуем используя OneHotEncoder"
   ]
  },
  {
   "cell_type": "code",
   "execution_count": 962,
   "metadata": {},
   "outputs": [
    {
     "data": {
      "text/plain": [
       "PConc     647\n",
       "CBlock    634\n",
       "BrkTil    146\n",
       "Slab       24\n",
       "Stone       6\n",
       "Wood        3\n",
       "Name: Foundation, dtype: int64"
      ]
     },
     "execution_count": 962,
     "metadata": {},
     "output_type": "execute_result"
    }
   ],
   "source": [
    "data['Foundation'].value_counts()"
   ]
  },
  {
   "cell_type": "code",
   "execution_count": 963,
   "metadata": {},
   "outputs": [],
   "source": [
    "data = pd.get_dummies( data, columns = [ 'Foundation' ] )"
   ]
  },
  {
   "cell_type": "markdown",
   "metadata": {},
   "source": [
    "25. BsmtQual, BsmtCond, BsmtExposure, BsmtFinType1, BsmtFinType2 - заполним отсутствующие значения значением 'NA' + преобразуем используя OneHotEncoder категориальные значения"
   ]
  },
  {
   "cell_type": "code",
   "execution_count": 964,
   "metadata": {},
   "outputs": [],
   "source": [
    "data['BsmtQual'] = data['BsmtQual'].fillna('NA')\n",
    "data['BsmtCond'] = data['BsmtQual'].fillna('NA')\n",
    "data['BsmtExposure'] = data['BsmtQual'].fillna('NA')\n",
    "data['BsmtFinType1'] = data['BsmtQual'].fillna('NA')\n",
    "data['BsmtFinType2'] = data['BsmtQual'].fillna('NA')"
   ]
  },
  {
   "cell_type": "code",
   "execution_count": 965,
   "metadata": {},
   "outputs": [],
   "source": [
    "data = pd.get_dummies( data, columns = [ 'BsmtQual' ] )\n",
    "data = pd.get_dummies( data, columns = [ 'BsmtCond' ] )\n",
    "data = pd.get_dummies( data, columns = [ 'BsmtExposure' ] )\n",
    "data = pd.get_dummies( data, columns = [ 'BsmtFinType1' ] )\n",
    "data = pd.get_dummies( data, columns = [ 'BsmtFinType2' ] )"
   ]
  },
  {
   "cell_type": "markdown",
   "metadata": {},
   "source": [
    "26. Heating - несколько редковстречающихся значений, не будем использовать"
   ]
  },
  {
   "cell_type": "code",
   "execution_count": 966,
   "metadata": {},
   "outputs": [
    {
     "data": {
      "text/plain": [
       "GasA     1428\n",
       "GasW       18\n",
       "Grav        7\n",
       "Wall        4\n",
       "OthW        2\n",
       "Floor       1\n",
       "Name: Heating, dtype: int64"
      ]
     },
     "execution_count": 966,
     "metadata": {},
     "output_type": "execute_result"
    }
   ],
   "source": [
    "data['Heating'].value_counts()"
   ]
  },
  {
   "cell_type": "code",
   "execution_count": 967,
   "metadata": {},
   "outputs": [],
   "source": [
    "del data['Heating']\n",
    "del data['HeatingQC']"
   ]
  },
  {
   "cell_type": "markdown",
   "metadata": {},
   "source": [
    "27. CentralAir - преобразуем категориальные значения используя OneHotEncoder "
   ]
  },
  {
   "cell_type": "code",
   "execution_count": 968,
   "metadata": {},
   "outputs": [
    {
     "data": {
      "text/plain": [
       "Y    1365\n",
       "N      95\n",
       "Name: CentralAir, dtype: int64"
      ]
     },
     "execution_count": 968,
     "metadata": {},
     "output_type": "execute_result"
    }
   ],
   "source": [
    "data['CentralAir'].value_counts()"
   ]
  },
  {
   "cell_type": "code",
   "execution_count": 969,
   "metadata": {},
   "outputs": [],
   "source": [
    "data = pd.get_dummies( data, columns = [ 'CentralAir' ] )"
   ]
  },
  {
   "cell_type": "markdown",
   "metadata": {},
   "source": [
    "28. Electrical - заполним отсутствующее значение самым распространенным + преобразуем категориальные значения используя OneHotEncoder "
   ]
  },
  {
   "cell_type": "code",
   "execution_count": 970,
   "metadata": {},
   "outputs": [
    {
     "data": {
      "text/plain": [
       "SBrkr    1334\n",
       "FuseA      94\n",
       "FuseF      27\n",
       "FuseP       3\n",
       "Mix         1\n",
       "Name: Electrical, dtype: int64"
      ]
     },
     "execution_count": 970,
     "metadata": {},
     "output_type": "execute_result"
    }
   ],
   "source": [
    "data['Electrical'].value_counts()"
   ]
  },
  {
   "cell_type": "code",
   "execution_count": 971,
   "metadata": {},
   "outputs": [],
   "source": [
    "data['Electrical'] = data['Electrical'].fillna('SBrkr')\n",
    "data = pd.get_dummies( data, columns = [ 'Electrical' ] )"
   ]
  },
  {
   "cell_type": "markdown",
   "metadata": {},
   "source": [
    "29. KitchenQual - преобразуем категориальные значения используя OneHotEncoder "
   ]
  },
  {
   "cell_type": "code",
   "execution_count": 972,
   "metadata": {},
   "outputs": [
    {
     "data": {
      "text/plain": [
       "TA    735\n",
       "Gd    586\n",
       "Ex    100\n",
       "Fa     39\n",
       "Name: KitchenQual, dtype: int64"
      ]
     },
     "execution_count": 972,
     "metadata": {},
     "output_type": "execute_result"
    }
   ],
   "source": [
    "data['KitchenQual'].value_counts()"
   ]
  },
  {
   "cell_type": "code",
   "execution_count": 973,
   "metadata": {},
   "outputs": [],
   "source": [
    "data = pd.get_dummies( data, columns = [ 'KitchenQual' ] )"
   ]
  },
  {
   "cell_type": "markdown",
   "metadata": {},
   "source": [
    "30. Functional - преобразуем категориальные значения используя OneHotEncoder "
   ]
  },
  {
   "cell_type": "code",
   "execution_count": 974,
   "metadata": {},
   "outputs": [
    {
     "data": {
      "text/plain": [
       "Typ     1360\n",
       "Min2      34\n",
       "Min1      31\n",
       "Mod       15\n",
       "Maj1      14\n",
       "Maj2       5\n",
       "Sev        1\n",
       "Name: Functional, dtype: int64"
      ]
     },
     "execution_count": 974,
     "metadata": {},
     "output_type": "execute_result"
    }
   ],
   "source": [
    "data['Functional'].value_counts()"
   ]
  },
  {
   "cell_type": "code",
   "execution_count": 975,
   "metadata": {},
   "outputs": [],
   "source": [
    "data = pd.get_dummies( data, columns = [ 'Functional' ] )"
   ]
  },
  {
   "cell_type": "markdown",
   "metadata": {},
   "source": [
    "31. FireplaceQu - заполним пустые значения значением 'NA' + преобразуем категориальные значения используя OneHotEncoder "
   ]
  },
  {
   "cell_type": "code",
   "execution_count": 976,
   "metadata": {},
   "outputs": [
    {
     "data": {
      "text/plain": [
       "Gd    380\n",
       "TA    313\n",
       "Fa     33\n",
       "Ex     24\n",
       "Po     20\n",
       "Name: FireplaceQu, dtype: int64"
      ]
     },
     "execution_count": 976,
     "metadata": {},
     "output_type": "execute_result"
    }
   ],
   "source": [
    "data['FireplaceQu'].value_counts()"
   ]
  },
  {
   "cell_type": "code",
   "execution_count": 977,
   "metadata": {},
   "outputs": [],
   "source": [
    "data['FireplaceQu'] = data['FireplaceQu'].fillna('NA')"
   ]
  },
  {
   "cell_type": "code",
   "execution_count": 978,
   "metadata": {},
   "outputs": [],
   "source": [
    "data = pd.get_dummies( data, columns = [ 'FireplaceQu' ] )"
   ]
  },
  {
   "cell_type": "markdown",
   "metadata": {},
   "source": [
    "32. GarageType, GarageYrBlt, GarageQual, GarageCond - заполним пустые значения значением 'NA' + преобразуем категориальные значения используя OneHotEncoder "
   ]
  },
  {
   "cell_type": "code",
   "execution_count": 979,
   "metadata": {},
   "outputs": [],
   "source": [
    "no_gar = data[data['GarageType'].isna()]\n",
    "data['GarageType'] = data['GarageType'].fillna('NA')\n",
    "data['GarageYrBlt'] = data['GarageYrBlt'].fillna(0)\n",
    "data['GarageQual'] = data['GarageQual'].fillna('NA')\n",
    "data['GarageCond'] = data['GarageCond'].fillna('NA')\n",
    "data['GarageFinish'] = data['GarageFinish'].fillna('NA')"
   ]
  },
  {
   "cell_type": "code",
   "execution_count": 980,
   "metadata": {},
   "outputs": [],
   "source": [
    "data = pd.get_dummies( data, columns = [ 'GarageType' ] )\n",
    "data = pd.get_dummies( data, columns = [ 'GarageQual' ] )\n",
    "data = pd.get_dummies( data, columns = [ 'GarageCond' ] )\n",
    "data = pd.get_dummies( data, columns = [ 'GarageFinish' ] )"
   ]
  },
  {
   "cell_type": "markdown",
   "metadata": {},
   "source": [
    "33. PavedDrive - преобразуем категориальные значения используя OneHotEncoder "
   ]
  },
  {
   "cell_type": "code",
   "execution_count": 981,
   "metadata": {},
   "outputs": [
    {
     "data": {
      "text/plain": [
       "Y    1340\n",
       "N      90\n",
       "P      30\n",
       "Name: PavedDrive, dtype: int64"
      ]
     },
     "execution_count": 981,
     "metadata": {},
     "output_type": "execute_result"
    }
   ],
   "source": [
    "data['PavedDrive'].value_counts()"
   ]
  },
  {
   "cell_type": "code",
   "execution_count": 982,
   "metadata": {},
   "outputs": [],
   "source": [
    "data = pd.get_dummies( data, columns = [ 'PavedDrive' ] )"
   ]
  },
  {
   "cell_type": "markdown",
   "metadata": {},
   "source": [
    "34. PoolQC - всего 7 значений, не будем использовать"
   ]
  },
  {
   "cell_type": "code",
   "execution_count": 983,
   "metadata": {},
   "outputs": [
    {
     "data": {
      "text/plain": [
       "Gd    3\n",
       "Ex    2\n",
       "Fa    2\n",
       "Name: PoolQC, dtype: int64"
      ]
     },
     "execution_count": 983,
     "metadata": {},
     "output_type": "execute_result"
    }
   ],
   "source": [
    "data['PoolQC'].value_counts()"
   ]
  },
  {
   "cell_type": "code",
   "execution_count": 984,
   "metadata": {},
   "outputs": [],
   "source": [
    "del data['PoolQC']"
   ]
  },
  {
   "cell_type": "markdown",
   "metadata": {},
   "source": [
    "35. Fence - заполним пустые значения значением 'NA' + преобразуем категориальные значения используя OneHotEncoder"
   ]
  },
  {
   "cell_type": "code",
   "execution_count": 985,
   "metadata": {},
   "outputs": [
    {
     "data": {
      "text/plain": [
       "MnPrv    157\n",
       "GdPrv     59\n",
       "GdWo      54\n",
       "MnWw      11\n",
       "Name: Fence, dtype: int64"
      ]
     },
     "execution_count": 985,
     "metadata": {},
     "output_type": "execute_result"
    }
   ],
   "source": [
    "data['Fence'].value_counts()"
   ]
  },
  {
   "cell_type": "code",
   "execution_count": 986,
   "metadata": {},
   "outputs": [],
   "source": [
    "data['Fence'] = data['Fence'].fillna('NA')\n",
    "data = pd.get_dummies( data, columns = [ 'Fence' ] )"
   ]
  },
  {
   "cell_type": "markdown",
   "metadata": {},
   "source": [
    "36. MiscFeature - заполним пустые значения значением 'NA' + преобразуем категориальные значения используя OneHotEncoder"
   ]
  },
  {
   "cell_type": "code",
   "execution_count": 987,
   "metadata": {},
   "outputs": [
    {
     "data": {
      "text/plain": [
       "Shed    49\n",
       "Othr     2\n",
       "Gar2     2\n",
       "TenC     1\n",
       "Name: MiscFeature, dtype: int64"
      ]
     },
     "execution_count": 987,
     "metadata": {},
     "output_type": "execute_result"
    }
   ],
   "source": [
    "data['MiscFeature'].value_counts()"
   ]
  },
  {
   "cell_type": "code",
   "execution_count": 988,
   "metadata": {},
   "outputs": [],
   "source": [
    "data['MiscFeature'] = data['MiscFeature'].fillna('NA')\n",
    "data = pd.get_dummies( data, columns = [ 'MiscFeature' ] )"
   ]
  },
  {
   "cell_type": "markdown",
   "metadata": {},
   "source": [
    "37. SaleType - преобразуем категориальные значения используя OneHotEncoder"
   ]
  },
  {
   "cell_type": "code",
   "execution_count": 989,
   "metadata": {},
   "outputs": [
    {
     "data": {
      "text/plain": [
       "WD       1267\n",
       "New       122\n",
       "COD        43\n",
       "ConLD       9\n",
       "ConLI       5\n",
       "ConLw       5\n",
       "CWD         4\n",
       "Oth         3\n",
       "Con         2\n",
       "Name: SaleType, dtype: int64"
      ]
     },
     "execution_count": 989,
     "metadata": {},
     "output_type": "execute_result"
    }
   ],
   "source": [
    "data['SaleType'].value_counts()"
   ]
  },
  {
   "cell_type": "code",
   "execution_count": 990,
   "metadata": {},
   "outputs": [],
   "source": [
    "data = pd.get_dummies( data, columns = [ 'SaleType' ] )"
   ]
  },
  {
   "cell_type": "markdown",
   "metadata": {},
   "source": [
    "38. SaleCondition - преобразуем категориальные значения используя OneHotEncoder"
   ]
  },
  {
   "cell_type": "code",
   "execution_count": 991,
   "metadata": {},
   "outputs": [
    {
     "data": {
      "text/plain": [
       "Normal     1198\n",
       "Partial     125\n",
       "Abnorml     101\n",
       "Family       20\n",
       "Alloca       12\n",
       "AdjLand       4\n",
       "Name: SaleCondition, dtype: int64"
      ]
     },
     "execution_count": 991,
     "metadata": {},
     "output_type": "execute_result"
    }
   ],
   "source": [
    "data['SaleCondition'].value_counts()"
   ]
  },
  {
   "cell_type": "code",
   "execution_count": 992,
   "metadata": {},
   "outputs": [],
   "source": [
    "data = pd.get_dummies( data, columns = [ 'SaleCondition' ] )"
   ]
  },
  {
   "cell_type": "markdown",
   "metadata": {},
   "source": [
    "39. Alley (тип подъезда к дому) - редкий признак и на первый взгляд не важный. Удалим поле."
   ]
  },
  {
   "cell_type": "code",
   "execution_count": 993,
   "metadata": {},
   "outputs": [],
   "source": [
    "del data['Alley']"
   ]
  },
  {
   "cell_type": "markdown",
   "metadata": {},
   "source": [
    "40. Utilities - всего одно значениу NoSeWa (очевидно, означает дом без канализации). Удалим поле."
   ]
  },
  {
   "cell_type": "code",
   "execution_count": 994,
   "metadata": {},
   "outputs": [
    {
     "data": {
      "text/plain": [
       "AllPub    1459\n",
       "NoSeWa       1\n",
       "Name: Utilities, dtype: int64"
      ]
     },
     "execution_count": 994,
     "metadata": {},
     "output_type": "execute_result"
    }
   ],
   "source": [
    "data['Utilities'].value_counts()"
   ]
  },
  {
   "cell_type": "code",
   "execution_count": 995,
   "metadata": {},
   "outputs": [],
   "source": [
    "del data['Utilities']"
   ]
  },
  {
   "cell_type": "code",
   "execution_count": 996,
   "metadata": {},
   "outputs": [],
   "source": [
    "del data['Id']"
   ]
  },
  {
   "cell_type": "markdown",
   "metadata": {},
   "source": [
    "### 2. Построим модель случайного леса"
   ]
  },
  {
   "cell_type": "code",
   "execution_count": 997,
   "metadata": {},
   "outputs": [],
   "source": [
    "X = data.drop('SalePrice', axis=1)  \n",
    "y = data['SalePrice'] \n",
    "X_train, X_test, y_train, y_test = train_test_split(X, y, test_size=0.30, random_state = 2020)"
   ]
  },
  {
   "cell_type": "code",
   "execution_count": 998,
   "metadata": {},
   "outputs": [],
   "source": [
    "from sklearn.preprocessing import StandardScaler\n",
    "ss = StandardScaler()\n",
    "X_train_scaled = ss.fit_transform(X_train)\n",
    "X_test_scaled = ss.transform(X_test)"
   ]
  },
  {
   "cell_type": "code",
   "execution_count": 999,
   "metadata": {},
   "outputs": [
    {
     "name": "stdout",
     "output_type": "stream",
     "text": [
      "0.868379633877717\n"
     ]
    }
   ],
   "source": [
    "model = RandomForestRegressor(n_estimators = 1000, random_state = 42)\n",
    "\n",
    "model.fit(X_train_scaled,y_train)\n",
    "print(model.score(X_test_scaled, y_test))"
   ]
  },
  {
   "cell_type": "code",
   "execution_count": 1003,
   "metadata": {},
   "outputs": [
    {
     "data": {
      "image/png": "[encoded data removed]",
      "text/plain": [
       "<Figure size 1800x1800 with 1 Axes>"
      ]
     },
     "metadata": {},
     "output_type": "display_data"
    }
   ],
   "source": [
    "features = X.columns\n",
    "importances = model.feature_importances_\n",
    "# Возьмем первые 75 признаков по важности (иначе не будет видно названия полей)\n",
    "importances_top75 = np.sort(importances)[::-1][:75]\n",
    "indices = np.argsort(importances_top75)\n",
    "\n",
    "plt.subplots(figsize=(25, 25))\n",
    "plt.title('Feature Importances')\n",
    "\n",
    "plt.barh(range(len(indices)), importances_top75[indices], color='b', align='center')\n",
    "plt.yticks(range(len(indices)), [features[i] for i in indices])\n",
    "plt.xlabel('Relative Importance')\n",
    "plt.show()"
   ]
  },
  {
   "cell_type": "markdown",
   "metadata": {},
   "source": [
    "### 3. Обучим стекинг 3х моделей"
   ]
  },
  {
   "cell_type": "code",
   "execution_count": 1018,
   "metadata": {},
   "outputs": [],
   "source": [
    "from sklearn.ensemble import StackingRegressor\n",
    "from sklearn.linear_model import LinearRegression\n",
    "from sklearn.linear_model import  Lasso\n",
    "sklearn.ensemble import RandomForestRegressor\n",
    "from sklearn.svm import SVR"
   ]
  },
  {
   "cell_type": "code",
   "execution_count": 1040,
   "metadata": {},
   "outputs": [],
   "source": [
    "regressor = StackingRegressor(\n",
    "    [\n",
    "        ('lr', LinearRegression()),\n",
    "        ('rf', RandomForestRegressor()),       \n",
    "        ('svr', SVR(kernel='poly', C=100, gamma='auto', degree=3, epsilon=.1,\n",
    "               coef0=1))\n",
    "    ],\n",
    "LinearRegression())"
   ]
  },
  {
   "cell_type": "code",
   "execution_count": 1041,
   "metadata": {},
   "outputs": [
    {
     "data": {
      "text/plain": [
       "StackingRegressor(estimators=[('lr', LinearRegression()),\n",
       "                              ('rf', RandomForestRegressor()),\n",
       "                              ('svr',\n",
       "                               SVR(C=100, coef0=1, gamma='auto',\n",
       "                                   kernel='poly'))],\n",
       "                  final_estimator=LinearRegression())"
      ]
     },
     "execution_count": 1041,
     "metadata": {},
     "output_type": "execute_result"
    }
   ],
   "source": [
    "regressor.fit(X_train_scaled, y_train)"
   ]
  },
  {
   "cell_type": "code",
   "execution_count": 1042,
   "metadata": {},
   "outputs": [
    {
     "data": {
      "text/plain": [
       "0.8750315552043512"
      ]
     },
     "execution_count": 1042,
     "metadata": {},
     "output_type": "execute_result"
    }
   ],
   "source": [
    "regressor.score(X_test_scaled, y_test)"
   ]
  },
  {
   "cell_type": "code",
   "execution_count": null,
   "metadata": {},
   "outputs": [],
   "source": []
  }
 ],
 "metadata": {
  "kernelspec": {
   "display_name": "Python 3",
   "language": "python",
   "name": "python3"
  },
  "language_info": {
   "codemirror_mode": {
    "name": "ipython",
    "version": 3
   },
   "file_extension": ".py",
   "mimetype": "text/x-python",
   "name": "python",
   "nbconvert_exporter": "python",
   "pygments_lexer": "ipython3",
   "version": "3.8.5"
  }
 },
 "nbformat": 4,
 "nbformat_minor": 4
}
