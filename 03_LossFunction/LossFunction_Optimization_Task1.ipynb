{
 "cells": [
  {
   "cell_type": "code",
   "execution_count": 110,
   "metadata": {},
   "outputs": [],
   "source": [
    "import numpy as np\n",
    "import pandas as pd\n",
    "from sklearn import datasets\n",
    "import math\n",
    "from tqdm import tqdm\n",
    "\n",
    "import random\n",
    "from sklearn.datasets.samples_generator import make_regression\n",
    "import pylab\n",
    "from scipy import stats\n",
    "\n",
    "import matplotlib.pyplot as plt\n",
    "%matplotlib inline\n",
    "\n",
    "\n",
    "import seaborn as sns\n",
    "\n",
    "from sklearn.linear_model import LogisticRegression\n",
    "from sklearn.model_selection import train_test_split\n",
    "\n",
    "from sklearn.metrics import recall_score\n",
    "from sklearn.metrics import accuracy_score\n",
    "from sklearn.metrics import confusion_matrix\n",
    "from sklearn.feature_extraction import DictVectorizer\n",
    "\n",
    "import matplotlib.pyplot as plt\n"
   ]
  },
  {
   "cell_type": "code",
   "execution_count": 111,
   "metadata": {},
   "outputs": [
    {
     "data": {
      "text/html": [
       "<div>\n",
       "<style scoped>\n",
       "    .dataframe tbody tr th:only-of-type {\n",
       "        vertical-align: middle;\n",
       "    }\n",
       "\n",
       "    .dataframe tbody tr th {\n",
       "        vertical-align: top;\n",
       "    }\n",
       "\n",
       "    .dataframe thead th {\n",
       "        text-align: right;\n",
       "    }\n",
       "</style>\n",
       "<table border=\"1\" class=\"dataframe\">\n",
       "  <thead>\n",
       "    <tr style=\"text-align: right;\">\n",
       "      <th></th>\n",
       "      <th>sepal_length</th>\n",
       "      <th>sepal_width</th>\n",
       "      <th>petal_length</th>\n",
       "      <th>petal_width</th>\n",
       "      <th>spec</th>\n",
       "    </tr>\n",
       "  </thead>\n",
       "  <tbody>\n",
       "    <tr>\n",
       "      <th>50</th>\n",
       "      <td>7.0</td>\n",
       "      <td>3.2</td>\n",
       "      <td>4.7</td>\n",
       "      <td>1.4</td>\n",
       "      <td>0</td>\n",
       "    </tr>\n",
       "    <tr>\n",
       "      <th>51</th>\n",
       "      <td>6.4</td>\n",
       "      <td>3.2</td>\n",
       "      <td>4.5</td>\n",
       "      <td>1.5</td>\n",
       "      <td>0</td>\n",
       "    </tr>\n",
       "    <tr>\n",
       "      <th>52</th>\n",
       "      <td>6.9</td>\n",
       "      <td>3.1</td>\n",
       "      <td>4.9</td>\n",
       "      <td>1.5</td>\n",
       "      <td>0</td>\n",
       "    </tr>\n",
       "    <tr>\n",
       "      <th>53</th>\n",
       "      <td>5.5</td>\n",
       "      <td>2.3</td>\n",
       "      <td>4.0</td>\n",
       "      <td>1.3</td>\n",
       "      <td>0</td>\n",
       "    </tr>\n",
       "    <tr>\n",
       "      <th>54</th>\n",
       "      <td>6.5</td>\n",
       "      <td>2.8</td>\n",
       "      <td>4.6</td>\n",
       "      <td>1.5</td>\n",
       "      <td>0</td>\n",
       "    </tr>\n",
       "    <tr>\n",
       "      <th>...</th>\n",
       "      <td>...</td>\n",
       "      <td>...</td>\n",
       "      <td>...</td>\n",
       "      <td>...</td>\n",
       "      <td>...</td>\n",
       "    </tr>\n",
       "    <tr>\n",
       "      <th>145</th>\n",
       "      <td>6.7</td>\n",
       "      <td>3.0</td>\n",
       "      <td>5.2</td>\n",
       "      <td>2.3</td>\n",
       "      <td>1</td>\n",
       "    </tr>\n",
       "    <tr>\n",
       "      <th>146</th>\n",
       "      <td>6.3</td>\n",
       "      <td>2.5</td>\n",
       "      <td>5.0</td>\n",
       "      <td>1.9</td>\n",
       "      <td>1</td>\n",
       "    </tr>\n",
       "    <tr>\n",
       "      <th>147</th>\n",
       "      <td>6.5</td>\n",
       "      <td>3.0</td>\n",
       "      <td>5.2</td>\n",
       "      <td>2.0</td>\n",
       "      <td>1</td>\n",
       "    </tr>\n",
       "    <tr>\n",
       "      <th>148</th>\n",
       "      <td>6.2</td>\n",
       "      <td>3.4</td>\n",
       "      <td>5.4</td>\n",
       "      <td>2.3</td>\n",
       "      <td>1</td>\n",
       "    </tr>\n",
       "    <tr>\n",
       "      <th>149</th>\n",
       "      <td>5.9</td>\n",
       "      <td>3.0</td>\n",
       "      <td>5.1</td>\n",
       "      <td>1.8</td>\n",
       "      <td>1</td>\n",
       "    </tr>\n",
       "  </tbody>\n",
       "</table>\n",
       "<p>100 rows × 5 columns</p>\n",
       "</div>"
      ],
      "text/plain": [
       "     sepal_length  sepal_width  petal_length  petal_width  spec\n",
       "50            7.0          3.2           4.7          1.4     0\n",
       "51            6.4          3.2           4.5          1.5     0\n",
       "52            6.9          3.1           4.9          1.5     0\n",
       "53            5.5          2.3           4.0          1.3     0\n",
       "54            6.5          2.8           4.6          1.5     0\n",
       "..            ...          ...           ...          ...   ...\n",
       "145           6.7          3.0           5.2          2.3     1\n",
       "146           6.3          2.5           5.0          1.9     1\n",
       "147           6.5          3.0           5.2          2.0     1\n",
       "148           6.2          3.4           5.4          2.3     1\n",
       "149           5.9          3.0           5.1          1.8     1\n",
       "\n",
       "[100 rows x 5 columns]"
      ]
     },
     "execution_count": 111,
     "metadata": {},
     "output_type": "execute_result"
    }
   ],
   "source": [
    "# Загружаем датасет\n",
    "data = sns.load_dataset(\"iris\")\n",
    "\n",
    "# Исключаем вид 'setosa' из данных\n",
    "iris_data = data.drop(data[(data.species == 'setosa')].index)\n",
    "\n",
    "# Заменяем категориальные значения сорта на 1 и 0\n",
    "def get_species(row):\n",
    "    if row['species'] == 'versicolor':\n",
    "        return 0\n",
    "    else:\n",
    "        return 1\n",
    "    \n",
    "iris_data['spec'] = data.apply(get_species, axis=1)\n",
    "iris_data.drop(['species'], axis=1, inplace=True)\n",
    "iris_data"
   ]
  },
  {
   "cell_type": "code",
   "execution_count": 112,
   "metadata": {},
   "outputs": [],
   "source": [
    "# Выбираем данные для обучения модели\n",
    "x_train, x_test, y_train, y_test = train_test_split(iris_data.iloc[:, :-1], iris_data.iloc[:, -1], test_size=0.2, random_state=42)\n"
   ]
  },
  {
   "cell_type": "markdown",
   "metadata": {},
   "source": [
    "###### 1. Метод градиентного спуска"
   ]
  },
  {
   "cell_type": "code",
   "execution_count": 113,
   "metadata": {},
   "outputs": [],
   "source": [
    "# Реализуем метод градиентного спуска\n",
    "def gradient_descent(x_data, y_data, learning_rate,iterations,parameters): \n",
    "    size = x_data.shape[0]\n",
    "    weight = parameters[\"weight\"] \n",
    "    bias = parameters[\"bias\"]\n",
    "    loss_list = []\n",
    "    accuracy_list = []\n",
    "    \n",
    "    for i in tqdm(range(iterations)): \n",
    "        prediction = 1 / (1 + np.exp(-(np.dot(x_data, weight) + bias)))\n",
    "        loss = -1/size * np.sum(y_data * np.log(prediction) + (1 - y_data) * np.log(1-prediction))\n",
    "        \n",
    "        dW = 1/size * np.dot(x_data.T, (prediction - y_data))\n",
    "        db = 1/size * np.sum(prediction - y_data)\n",
    "        \n",
    "        weight -= learning_rate * dW\n",
    "        bias -= learning_rate * db\n",
    "        loss_list.append(loss)\n",
    "\n",
    "        \n",
    "    parameters[\"weight\"] = weight\n",
    "    parameters[\"bias\"] = bias\n",
    "    parameters[\"loss_list\"] = loss_list\n",
    "    \n",
    "    return parameters\n",
    "\n",
    "init_parameters = {} \n",
    "init_parameters[\"weight\"] = np.ones(x_train.shape[1])\n",
    "init_parameters[\"bias\"] = 0.0"
   ]
  },
  {
   "cell_type": "code",
   "execution_count": 114,
   "metadata": {},
   "outputs": [
    {
     "name": "stderr",
     "output_type": "stream",
     "text": [
      "100%|████████████████████████████████████████████████████████████████████████████| 1000/1000 [00:00<00:00, 1602.55it/s]\n"
     ]
    },
    {
     "data": {
      "text/plain": [
       "array([-0.87177326, -0.27001139,  0.94408968,  1.36295829])"
      ]
     },
     "execution_count": 114,
     "metadata": {},
     "output_type": "execute_result"
    }
   ],
   "source": [
    "def train(x_data, y_data, learning_rate,iterations):\n",
    "    parameters = gradient_descent(x_data, y_data, learning_rate, iterations, init_parameters)\n",
    "    return parameters\n",
    "\n",
    "parameters_gd = train(x_train, y_train, learning_rate = 0.01, iterations = 1000)\n",
    "parameters_gd[\"weight\"]"
   ]
  },
  {
   "cell_type": "code",
   "execution_count": 115,
   "metadata": {},
   "outputs": [
    {
     "data": {
      "image/png": "[encoded data removed]",
      "text/plain": [
       "<Figure size 432x288 with 1 Axes>"
      ]
     },
     "metadata": {
      "needs_background": "light"
     },
     "output_type": "display_data"
    }
   ],
   "source": [
    "plt.plot(parameters_gd['loss_list']);"
   ]
  },
  {
   "cell_type": "code",
   "execution_count": 116,
   "metadata": {},
   "outputs": [
    {
     "data": {
      "text/plain": [
       "array([5.81357949e-01, 9.98271688e-01, 9.99761582e-01, 1.11089319e-04,\n",
       "       4.28519357e-03, 6.29390127e-03, 7.65811485e-01, 9.99804718e-01,\n",
       "       1.42019250e-03, 1.59516889e-04, 7.10387264e-01, 3.82776842e-04,\n",
       "       9.45428485e-01, 9.54569261e-01, 9.99956520e-01, 2.06326273e-02,\n",
       "       8.40573698e-01, 7.58936606e-01, 5.86981142e-04, 6.42160837e-05])"
      ]
     },
     "execution_count": 116,
     "metadata": {},
     "output_type": "execute_result"
    }
   ],
   "source": [
    "predict = 1 / (1 + np.exp(-(np.dot(x_test, parameters['weight']) + parameters['bias'])))\n",
    "predict"
   ]
  },
  {
   "cell_type": "code",
   "execution_count": 117,
   "metadata": {},
   "outputs": [
    {
     "data": {
      "text/plain": [
       "array([1, 1, 1, 0, 0, 0, 1, 1, 0, 0, 1, 0, 1, 1, 1, 0, 1, 1, 0, 0])"
      ]
     },
     "execution_count": 117,
     "metadata": {},
     "output_type": "execute_result"
    }
   ],
   "source": [
    "predict2 = predict > 0.5\n",
    "predict2 * 1"
   ]
  },
  {
   "cell_type": "code",
   "execution_count": 118,
   "metadata": {},
   "outputs": [
    {
     "data": {
      "text/plain": [
       "0.85"
      ]
     },
     "execution_count": 118,
     "metadata": {},
     "output_type": "execute_result"
    }
   ],
   "source": [
    "accuracy_score(predict2, y_test)"
   ]
  },
  {
   "cell_type": "markdown",
   "metadata": {},
   "source": [
    "###### 2. Метод nesterov momentum"
   ]
  },
  {
   "cell_type": "code",
   "execution_count": 119,
   "metadata": {},
   "outputs": [],
   "source": [
    "# Реализуем метод nesterov momentum\n",
    "def gradient_descent_nesterov(x_data, y_data, learning_rate, beta, iterations, parameters): \n",
    "    size = x_data.shape[0]\n",
    "    weight = parameters[\"weight\"] \n",
    "    bias = parameters[\"bias\"]\n",
    "    momentum = parameters[\"momentum\"]\n",
    "    gamma = 0.7\n",
    "    \n",
    "    first_run = True\n",
    "    \n",
    "    loss_list = []\n",
    "    accuracy_list = []\n",
    "    \n",
    "    \n",
    "    for i in tqdm(range(iterations)):\n",
    "        prediction = 1 / (1 + np.exp(-(np.dot(x_data, weight) + bias)))\n",
    "        loss = -1/size * np.sum(y_data * np.log(prediction) + (1 - y_data) * np.log(1-prediction))\n",
    "\n",
    "        dW = 1/size * np.dot(x_data.T, (prediction - y_data))\n",
    "\n",
    "        weigh_temp = weight - gamma*momentum\n",
    "        weight = weigh_temp - learning_rate*dW\n",
    "\n",
    "        momentum = gamma*momentum + learning_rate*weigh_temp\n",
    "\n",
    "        db = 1/size * np.sum(prediction - y_data)     \n",
    "        bias -= learning_rate * db            \n",
    "\n",
    "        if i % 100 == 0:\n",
    "            loss_list.append(loss)\n",
    "        \n",
    "    parameters[\"weight\"] = weight\n",
    "    parameters[\"bias\"] = bias\n",
    "    parameters[\"loss_list\"] = loss_list\n",
    "    \n",
    "    return parameters\n"
   ]
  },
  {
   "cell_type": "code",
   "execution_count": 120,
   "metadata": {},
   "outputs": [
    {
     "name": "stderr",
     "output_type": "stream",
     "text": [
      "100%|██████████████████████████████████████████████████████████████████████████| 30000/30000 [00:18<00:00, 1636.01it/s]\n"
     ]
    },
    {
     "data": {
      "text/plain": [
       "array([0.0603223 , 0.01276924, 0.1305117 , 0.07082142])"
      ]
     },
     "execution_count": 120,
     "metadata": {},
     "output_type": "execute_result"
    }
   ],
   "source": [
    "def train_nesterov(x_data, y_data, beta, learning_rate,iterations):\n",
    "    parameters = gradient_descent_nesterov(x_data, y_data, learning_rate, beta, iterations, init_parameters)\n",
    "    return parameters\n",
    "\n",
    "init_parameters = {} \n",
    "init_parameters[\"weight\"] = np.zeros(x_train.shape[1])\n",
    "init_parameters[\"bias\"] = 0.0\n",
    "init_parameters[\"momentum\"] = 0.0\n",
    "\n",
    "parameters_nesterov = train_nesterov(x_train, y_train, learning_rate = 0.01, beta = 0.9, iterations = 30000)\n",
    "parameters_nesterov[\"weight\"]"
   ]
  },
  {
   "cell_type": "code",
   "execution_count": 121,
   "metadata": {},
   "outputs": [
    {
     "data": {
      "image/png": "[encoded data removed]",
      "text/plain": [
       "<Figure size 432x288 with 1 Axes>"
      ]
     },
     "metadata": {
      "needs_background": "light"
     },
     "output_type": "display_data"
    }
   ],
   "source": [
    "plt.plot(parameters_nesterov['loss_list']);"
   ]
  },
  {
   "cell_type": "code",
   "execution_count": 122,
   "metadata": {},
   "outputs": [
    {
     "data": {
      "text/plain": [
       "array([0.52584445, 0.5476671 , 0.56948131, 0.48278769, 0.48209333,\n",
       "       0.47343859, 0.51837594, 0.58143447, 0.44290172, 0.52286317,\n",
       "       0.50286727, 0.46309491, 0.5243151 , 0.52277886, 0.56474072,\n",
       "       0.51256701, 0.5198722 , 0.52226114, 0.47470616, 0.45809289])"
      ]
     },
     "execution_count": 122,
     "metadata": {},
     "output_type": "execute_result"
    }
   ],
   "source": [
    "predict = 1 / (1 + np.exp(-(np.dot(x_test, parameters_nesterov['weight']) + parameters_nesterov['bias'])))\n",
    "predict"
   ]
  },
  {
   "cell_type": "code",
   "execution_count": 123,
   "metadata": {},
   "outputs": [
    {
     "data": {
      "text/plain": [
       "array([1, 1, 1, 0, 0, 0, 1, 1, 0, 1, 1, 0, 1, 1, 1, 1, 1, 1, 0, 0])"
      ]
     },
     "execution_count": 123,
     "metadata": {},
     "output_type": "execute_result"
    }
   ],
   "source": [
    "predict2 = predict > 0.5\n",
    "predict2 * 1"
   ]
  },
  {
   "cell_type": "code",
   "execution_count": 124,
   "metadata": {},
   "outputs": [
    {
     "data": {
      "text/plain": [
       "0.75"
      ]
     },
     "execution_count": 124,
     "metadata": {},
     "output_type": "execute_result"
    }
   ],
   "source": [
    "accuracy_score(predict2, y_test)"
   ]
  },
  {
   "cell_type": "markdown",
   "metadata": {},
   "source": [
    "###### 3. Метод rmsprop"
   ]
  },
  {
   "cell_type": "code",
   "execution_count": 125,
   "metadata": {},
   "outputs": [],
   "source": [
    "# Реализуем метод rmsprop \n",
    "def gradient_descent_rmsprop(x_data, y_data, learning_rate,iterations,parameters):\n",
    "    size = x_data.shape[0]\n",
    "    weight = parameters[\"weight\"] \n",
    "    bias = parameters[\"bias\"]\n",
    "    loss_list = []\n",
    "    accuracy_list = []\n",
    "    v_w, v_b = 0, 0\n",
    "    eta = 0.01\n",
    "    eps = 1e-8\n",
    "    beta = 0.9\n",
    "    \n",
    "    for i in tqdm(range(iterations)): \n",
    "        prediction = 1 / (1 + np.exp(-(np.dot(x_data, weight) + bias)))\n",
    "        loss = -1/size * np.sum(y_data * np.log(prediction) + (1 - y_data) * np.log(1-prediction))\n",
    "        \n",
    "        dW = 1/size * np.dot(x_data.T, (prediction - y_data))\n",
    "        db = 1/size * np.sum(prediction - y_data)\n",
    "        \n",
    "        v_w = beta * v_w + (1 - beta) * dW**2\n",
    "        v_b = beta * v_b + (1 - beta) * db**2        \n",
    "        \n",
    "        \n",
    "        weight -= (eta / np.sqrt(v_w) + eps) * dW\n",
    "        bias -= (eta / np.sqrt(v_b) + eps) * db\n",
    "        loss_list.append(loss)\n",
    "\n",
    "        \n",
    "    parameters[\"weight\"] = weight\n",
    "    parameters[\"bias\"] = bias\n",
    "    parameters[\"loss_list\"] = loss_list\n",
    "    \n",
    "    return parameters\n"
   ]
  },
  {
   "cell_type": "code",
   "execution_count": 126,
   "metadata": {},
   "outputs": [
    {
     "name": "stderr",
     "output_type": "stream",
     "text": [
      "100%|████████████████████████████████████████████████████████████████████████████| 1000/1000 [00:00<00:00, 1577.37it/s]\n"
     ]
    },
    {
     "data": {
      "text/plain": [
       "array([-2.14268564, -4.63165287,  4.62736048,  6.87528908])"
      ]
     },
     "execution_count": 126,
     "metadata": {},
     "output_type": "execute_result"
    }
   ],
   "source": [
    "def train_rmsprop(x_data, y_data, learning_rate,iterations):\n",
    "    parameters = gradient_descent_rmsprop(x_data, y_data, learning_rate, iterations, init_parameters)\n",
    "    return parameters\n",
    "\n",
    "init_parameters = {} \n",
    "init_parameters[\"weight\"] = np.ones(x_train.shape[1])\n",
    "init_parameters[\"bias\"] = 0.0\n",
    "\n",
    "parameters_rmsprop = train_rmsprop(x_train, y_train, learning_rate = 0.01, iterations = 1000)\n",
    "parameters_rmsprop[\"weight\"]"
   ]
  },
  {
   "cell_type": "code",
   "execution_count": 127,
   "metadata": {},
   "outputs": [
    {
     "data": {
      "text/plain": [
       "array([0.56128061, 0.98462416, 0.99543489, 0.00360591, 0.03454702,\n",
       "       0.04248668, 0.67048617, 0.99486682, 0.01623454, 0.00352391,\n",
       "       0.61377421, 0.00701605, 0.86373222, 0.8849191 , 0.99850066,\n",
       "       0.07614917, 0.75676195, 0.70799832, 0.00769406, 0.00223165])"
      ]
     },
     "execution_count": 127,
     "metadata": {},
     "output_type": "execute_result"
    }
   ],
   "source": [
    "predict3 = 1 / (1 + np.exp(-(np.dot(x_test, parameters_rmsprop['weight']) + parameters_rmsprop['bias'])))\n",
    "predict3"
   ]
  },
  {
   "cell_type": "code",
   "execution_count": 128,
   "metadata": {},
   "outputs": [
    {
     "data": {
      "text/plain": [
       "array([1, 1, 1, 0, 0, 0, 1, 1, 0, 1, 1, 0, 1, 1, 1, 1, 1, 1, 0, 0])"
      ]
     },
     "execution_count": 128,
     "metadata": {},
     "output_type": "execute_result"
    }
   ],
   "source": [
    "predict3 = predict > 0.5\n",
    "predict3 * 1"
   ]
  },
  {
   "cell_type": "code",
   "execution_count": 129,
   "metadata": {},
   "outputs": [
    {
     "data": {
      "text/plain": [
       "0.75"
      ]
     },
     "execution_count": 129,
     "metadata": {},
     "output_type": "execute_result"
    }
   ],
   "source": [
    "accuracy_score(predict3, y_test)"
   ]
  },
  {
   "cell_type": "code",
   "execution_count": null,
   "metadata": {},
   "outputs": [],
   "source": []
  }
 ],
 "metadata": {
  "kernelspec": {
   "display_name": "Python 3",
   "language": "python",
   "name": "python3"
  },
  "language_info": {
   "codemirror_mode": {
    "name": "ipython",
    "version": 3
   },
   "file_extension": ".py",
   "mimetype": "text/x-python",
   "name": "python",
   "nbconvert_exporter": "python",
   "pygments_lexer": "ipython3",
   "version": "3.8.5"
  }
 },
 "nbformat": 4,
 "nbformat_minor": 4
}
