{
 "cells": [
  {
   "cell_type": "code",
   "execution_count": 1,
   "metadata": {},
   "outputs": [
    {
     "name": "stderr",
     "output_type": "stream",
     "text": [
      "C:\\ProgramData\\Anaconda3\\lib\\site-packages\\sklearn\\utils\\deprecation.py:143: FutureWarning: The sklearn.datasets.samples_generator module is  deprecated in version 0.22 and will be removed in version 0.24. The corresponding classes / functions should instead be imported from sklearn.datasets. Anything that cannot be imported from sklearn.datasets is now part of the private API.\n",
      "  warnings.warn(message, FutureWarning)\n"
     ]
    }
   ],
   "source": [
    "import numpy as np\n",
    "import pandas as pd\n",
    "from sklearn import datasets\n",
    "import math\n",
    "\n",
    "import random\n",
    "from sklearn.datasets.samples_generator import make_regression\n",
    "import pylab\n",
    "from scipy import stats\n",
    "\n",
    "import matplotlib.pyplot as plt\n",
    "%matplotlib inline\n",
    "\n",
    "\n",
    "import seaborn as sns\n",
    "\n",
    "from sklearn.linear_model import LogisticRegression\n",
    "from sklearn.model_selection import train_test_split\n",
    "\n",
    "from sklearn.metrics import recall_score\n",
    "from sklearn.metrics import accuracy_score\n",
    "from sklearn.metrics import confusion_matrix\n",
    "from sklearn.feature_extraction import DictVectorizer\n",
    "\n",
    "import matplotlib.pyplot as plt\n"
   ]
  },
  {
   "cell_type": "code",
   "execution_count": 2,
   "metadata": {},
   "outputs": [
    {
     "data": {
      "text/html": [
       "<div>\n",
       "<style scoped>\n",
       "    .dataframe tbody tr th:only-of-type {\n",
       "        vertical-align: middle;\n",
       "    }\n",
       "\n",
       "    .dataframe tbody tr th {\n",
       "        vertical-align: top;\n",
       "    }\n",
       "\n",
       "    .dataframe thead th {\n",
       "        text-align: right;\n",
       "    }\n",
       "</style>\n",
       "<table border=\"1\" class=\"dataframe\">\n",
       "  <thead>\n",
       "    <tr style=\"text-align: right;\">\n",
       "      <th></th>\n",
       "      <th>sepal_length</th>\n",
       "      <th>sepal_width</th>\n",
       "      <th>petal_length</th>\n",
       "      <th>petal_width</th>\n",
       "      <th>spec</th>\n",
       "    </tr>\n",
       "  </thead>\n",
       "  <tbody>\n",
       "    <tr>\n",
       "      <th>50</th>\n",
       "      <td>7.0</td>\n",
       "      <td>3.2</td>\n",
       "      <td>4.7</td>\n",
       "      <td>1.4</td>\n",
       "      <td>0</td>\n",
       "    </tr>\n",
       "    <tr>\n",
       "      <th>51</th>\n",
       "      <td>6.4</td>\n",
       "      <td>3.2</td>\n",
       "      <td>4.5</td>\n",
       "      <td>1.5</td>\n",
       "      <td>0</td>\n",
       "    </tr>\n",
       "    <tr>\n",
       "      <th>52</th>\n",
       "      <td>6.9</td>\n",
       "      <td>3.1</td>\n",
       "      <td>4.9</td>\n",
       "      <td>1.5</td>\n",
       "      <td>0</td>\n",
       "    </tr>\n",
       "    <tr>\n",
       "      <th>53</th>\n",
       "      <td>5.5</td>\n",
       "      <td>2.3</td>\n",
       "      <td>4.0</td>\n",
       "      <td>1.3</td>\n",
       "      <td>0</td>\n",
       "    </tr>\n",
       "    <tr>\n",
       "      <th>54</th>\n",
       "      <td>6.5</td>\n",
       "      <td>2.8</td>\n",
       "      <td>4.6</td>\n",
       "      <td>1.5</td>\n",
       "      <td>0</td>\n",
       "    </tr>\n",
       "    <tr>\n",
       "      <th>...</th>\n",
       "      <td>...</td>\n",
       "      <td>...</td>\n",
       "      <td>...</td>\n",
       "      <td>...</td>\n",
       "      <td>...</td>\n",
       "    </tr>\n",
       "    <tr>\n",
       "      <th>145</th>\n",
       "      <td>6.7</td>\n",
       "      <td>3.0</td>\n",
       "      <td>5.2</td>\n",
       "      <td>2.3</td>\n",
       "      <td>1</td>\n",
       "    </tr>\n",
       "    <tr>\n",
       "      <th>146</th>\n",
       "      <td>6.3</td>\n",
       "      <td>2.5</td>\n",
       "      <td>5.0</td>\n",
       "      <td>1.9</td>\n",
       "      <td>1</td>\n",
       "    </tr>\n",
       "    <tr>\n",
       "      <th>147</th>\n",
       "      <td>6.5</td>\n",
       "      <td>3.0</td>\n",
       "      <td>5.2</td>\n",
       "      <td>2.0</td>\n",
       "      <td>1</td>\n",
       "    </tr>\n",
       "    <tr>\n",
       "      <th>148</th>\n",
       "      <td>6.2</td>\n",
       "      <td>3.4</td>\n",
       "      <td>5.4</td>\n",
       "      <td>2.3</td>\n",
       "      <td>1</td>\n",
       "    </tr>\n",
       "    <tr>\n",
       "      <th>149</th>\n",
       "      <td>5.9</td>\n",
       "      <td>3.0</td>\n",
       "      <td>5.1</td>\n",
       "      <td>1.8</td>\n",
       "      <td>1</td>\n",
       "    </tr>\n",
       "  </tbody>\n",
       "</table>\n",
       "<p>100 rows × 5 columns</p>\n",
       "</div>"
      ],
      "text/plain": [
       "     sepal_length  sepal_width  petal_length  petal_width  spec\n",
       "50            7.0          3.2           4.7          1.4     0\n",
       "51            6.4          3.2           4.5          1.5     0\n",
       "52            6.9          3.1           4.9          1.5     0\n",
       "53            5.5          2.3           4.0          1.3     0\n",
       "54            6.5          2.8           4.6          1.5     0\n",
       "..            ...          ...           ...          ...   ...\n",
       "145           6.7          3.0           5.2          2.3     1\n",
       "146           6.3          2.5           5.0          1.9     1\n",
       "147           6.5          3.0           5.2          2.0     1\n",
       "148           6.2          3.4           5.4          2.3     1\n",
       "149           5.9          3.0           5.1          1.8     1\n",
       "\n",
       "[100 rows x 5 columns]"
      ]
     },
     "execution_count": 2,
     "metadata": {},
     "output_type": "execute_result"
    }
   ],
   "source": [
    "# Загружаем датасет\n",
    "data = sns.load_dataset(\"iris\")\n",
    "\n",
    "# Исключаем вид 'setosa' из данных\n",
    "iris_data = data.drop(data[(data.species == 'setosa')].index)\n",
    "\n",
    "# Заменяем категориальные значения сорта на 1 и 0\n",
    "def get_species(row):\n",
    "    if row['species'] == 'versicolor':\n",
    "        return 0\n",
    "    else:\n",
    "        return 1\n",
    "    \n",
    "iris_data['spec'] = data.apply(get_species, axis=1)\n",
    "iris_data.drop(['species'], axis=1, inplace=True)\n",
    "iris_data"
   ]
  },
  {
   "cell_type": "code",
   "execution_count": 3,
   "metadata": {},
   "outputs": [],
   "source": [
    "# Выбираем данные для обучения модели\n",
    "x_train, x_test, y_train, y_test = train_test_split(iris_data.iloc[:, :-1], iris_data.iloc[:, -1], test_size=0.2, random_state=42)\n"
   ]
  },
  {
   "cell_type": "code",
   "execution_count": 4,
   "metadata": {},
   "outputs": [],
   "source": [
    "# Реализуем метод градиентного спуска\n",
    "def gradient_descent(x_data, y_data, learning_rate,iterations,parameters): \n",
    "    size = x_data.shape[0]\n",
    "    weight = parameters[\"weight\"] \n",
    "    bias = parameters[\"bias\"]\n",
    "    loss_list = []\n",
    "    accuracy_list = []\n",
    "    \n",
    "    for i in range(iterations): \n",
    "        prediction = 1 / (1 + np.exp(-(np.dot(x_data, weight) + bias)))\n",
    "        loss = -1/size * np.sum(y_data * np.log(prediction) + (1 - y_data) * np.log(1-prediction))\n",
    "        \n",
    "        dW = 1/size * np.dot(x_data.T, (prediction - y_data))\n",
    "        db = 1/size * np.sum(prediction - y_data)\n",
    "        \n",
    "        weight -= learning_rate * dW\n",
    "        bias -= learning_rate * db\n",
    "        loss_list.append(loss)\n",
    "\n",
    "        \n",
    "    parameters[\"weight\"] = weight\n",
    "    parameters[\"bias\"] = bias\n",
    "    parameters[\"loss_list\"] = loss_list\n",
    "    \n",
    "    return parameters\n",
    "\n",
    "init_parameters = {} \n",
    "init_parameters[\"weight\"] = np.zeros(x_train.shape[1])\n",
    "init_parameters[\"bias\"] = 0.0"
   ]
  },
  {
   "cell_type": "code",
   "execution_count": 6,
   "metadata": {},
   "outputs": [],
   "source": [
    "def train(x_data, y_data, learning_rate,iterations):\n",
    "    parameters = gradient_descent(x_data, y_data, learning_rate, iterations, init_parameters)\n",
    "    return parameters\n",
    "\n",
    "parameters = train(x_train, y_train, learning_rate = 0.01, iterations = 20000)"
   ]
  },
  {
   "cell_type": "code",
   "execution_count": 7,
   "metadata": {},
   "outputs": [
    {
     "data": {
      "image/png": "[encoded data removed]",
      "text/plain": [
       "<Figure size 432x288 with 1 Axes>"
      ]
     },
     "metadata": {
      "needs_background": "light"
     },
     "output_type": "display_data"
    }
   ],
   "source": [
    "plt.plot(parameters['loss_list']);"
   ]
  },
  {
   "cell_type": "code",
   "execution_count": 8,
   "metadata": {},
   "outputs": [
    {
     "data": {
      "text/plain": [
       "array([0.64001397, 0.99017739, 0.99066606, 0.00529213, 0.05192849,\n",
       "       0.06024114, 0.70975454, 0.99303616, 0.03680318, 0.00165709,\n",
       "       0.60073677, 0.01066967, 0.83774999, 0.92983416, 0.99695787,\n",
       "       0.05351101, 0.71467591, 0.69799668, 0.00984665, 0.00346618])"
      ]
     },
     "execution_count": 8,
     "metadata": {},
     "output_type": "execute_result"
    }
   ],
   "source": [
    "predict = 1 / (1 + np.exp(-(np.dot(x_test, parameters['weight']) + parameters['bias'])))\n",
    "predict"
   ]
  },
  {
   "cell_type": "code",
   "execution_count": 9,
   "metadata": {},
   "outputs": [
    {
     "data": {
      "text/plain": [
       "array([1, 1, 1, 0, 0, 0, 1, 1, 0, 0, 1, 0, 1, 1, 1, 0, 1, 1, 0, 0])"
      ]
     },
     "execution_count": 9,
     "metadata": {},
     "output_type": "execute_result"
    }
   ],
   "source": [
    "predict2 = predict > 0.5\n",
    "predict2 * 1"
   ]
  },
  {
   "cell_type": "code",
   "execution_count": 10,
   "metadata": {},
   "outputs": [
    {
     "data": {
      "text/plain": [
       "0.85"
      ]
     },
     "execution_count": 10,
     "metadata": {},
     "output_type": "execute_result"
    }
   ],
   "source": [
    "accuracy_score(predict2, y_test)"
   ]
  },
  {
   "cell_type": "code",
   "execution_count": null,
   "metadata": {},
   "outputs": [],
   "source": []
  }
 ],
 "metadata": {
  "kernelspec": {
   "display_name": "Python 3",
   "language": "python",
   "name": "python3"
  },
  "language_info": {
   "codemirror_mode": {
    "name": "ipython",
    "version": 3
   },
   "file_extension": ".py",
   "mimetype": "text/x-python",
   "name": "python",
   "nbconvert_exporter": "python",
   "pygments_lexer": "ipython3",
   "version": "3.8.5"
  }
 },
 "nbformat": 4,
 "nbformat_minor": 4
}
